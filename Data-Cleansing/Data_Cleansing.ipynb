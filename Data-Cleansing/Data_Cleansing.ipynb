{
 "cells": [
  {
   "cell_type": "markdown",
   "id": "f3568688",
   "metadata": {},
   "source": [
    "## FIT5196 Assessment 2\n",
    "\n",
    "Student Name: Jiawei Ren\n",
    "\n",
    "Student ID:  32073119\n"
   ]
  },
  {
   "cell_type": "markdown",
   "id": "adc46531",
   "metadata": {},
   "source": [
    "## Library"
   ]
  },
  {
   "cell_type": "code",
   "execution_count": 1,
   "id": "91f26d5f",
   "metadata": {},
   "outputs": [],
   "source": [
    "#for dataframe \n",
    "import pandas as pd\n",
    "#math for calculate the distance\n",
    "from math import sin, cos, sqrt, atan2, radians\n",
    "#these three are for linear regression modelling \n",
    "from sklearn.linear_model import LinearRegression\n",
    "from sklearn.model_selection import train_test_split\n",
    "from sklearn import linear_model\n",
    "# find outliers\n",
    "import numpy as np\n",
    "#plot diagram\n",
    "import matplotlib.pyplot as plt\n",
    "%matplotlib inline"
   ]
  },
  {
   "cell_type": "markdown",
   "id": "901f296d",
   "metadata": {},
   "source": [
    "## Table of Contents\n",
    "\n",
    "* [1. Dectect and fix errors in 32073119_dirty.csv](#1.0)\n",
    "* [2. Detect and remove outlier rows in outlier.csv ](#2.0)\n",
    "* [2. Impute the missing values in missing.csv](#3.0)"
   ]
  },
  {
   "cell_type": "markdown",
   "id": "e2d59501",
   "metadata": {},
   "source": [
    "## Part1 : Dectect and fix errors in 32073119_dirty.csv <a class=\"anchor\" name=\"1.0\"></a>\n",
    "\n",
    "1.1 **Load and Print data set**"
   ]
  },
  {
   "cell_type": "code",
   "execution_count": 2,
   "id": "7eb6351a",
   "metadata": {},
   "outputs": [
    {
     "data": {
      "text/html": [
       "<div>\n",
       "<style scoped>\n",
       "    .dataframe tbody tr th:only-of-type {\n",
       "        vertical-align: middle;\n",
       "    }\n",
       "\n",
       "    .dataframe tbody tr th {\n",
       "        vertical-align: top;\n",
       "    }\n",
       "\n",
       "    .dataframe thead th {\n",
       "        text-align: right;\n",
       "    }\n",
       "</style>\n",
       "<table border=\"1\" class=\"dataframe\">\n",
       "  <thead>\n",
       "    <tr style=\"text-align: right;\">\n",
       "      <th></th>\n",
       "      <th>ticket_id</th>\n",
       "      <th>airline_flight</th>\n",
       "      <th>name</th>\n",
       "      <th>gender</th>\n",
       "      <th>dob</th>\n",
       "      <th>dop</th>\n",
       "      <th>dod</th>\n",
       "      <th>is_adult</th>\n",
       "      <th>from</th>\n",
       "      <th>to</th>\n",
       "      <th>distance</th>\n",
       "      <th>num_stops</th>\n",
       "      <th>has_loyalty</th>\n",
       "      <th>price_tier</th>\n",
       "      <th>price</th>\n",
       "    </tr>\n",
       "  </thead>\n",
       "  <tbody>\n",
       "    <tr>\n",
       "      <th>0</th>\n",
       "      <td>IDXX93513</td>\n",
       "      <td>Adonis\\AS-998</td>\n",
       "      <td>Ms. Johnna Johnson</td>\n",
       "      <td>F</td>\n",
       "      <td>2001-12-06</td>\n",
       "      <td>2021-05-24</td>\n",
       "      <td>2021-06-08</td>\n",
       "      <td>1</td>\n",
       "      <td>Croatia</td>\n",
       "      <td>Bulgaria</td>\n",
       "      <td>865.10</td>\n",
       "      <td>1</td>\n",
       "      <td>1</td>\n",
       "      <td>2</td>\n",
       "      <td>513.15</td>\n",
       "    </tr>\n",
       "    <tr>\n",
       "      <th>1</th>\n",
       "      <td>IDYY64279</td>\n",
       "      <td>Calisto\\CS-120</td>\n",
       "      <td>Mr. Mark Ludeker</td>\n",
       "      <td>M</td>\n",
       "      <td>1986-02-11</td>\n",
       "      <td>2021-10-23</td>\n",
       "      <td>2022-09-18</td>\n",
       "      <td>1</td>\n",
       "      <td>Mongolia</td>\n",
       "      <td>Suriname</td>\n",
       "      <td>14048.36</td>\n",
       "      <td>1</td>\n",
       "      <td>0</td>\n",
       "      <td>2</td>\n",
       "      <td>2666.03</td>\n",
       "    </tr>\n",
       "    <tr>\n",
       "      <th>2</th>\n",
       "      <td>IDYY04574</td>\n",
       "      <td>Calisto\\CS-368</td>\n",
       "      <td>Mr. Wayne Ruiz</td>\n",
       "      <td>M</td>\n",
       "      <td>2018-01-14</td>\n",
       "      <td>2021-02-23</td>\n",
       "      <td>2022-02-18</td>\n",
       "      <td>1</td>\n",
       "      <td>Burundi</td>\n",
       "      <td>Montenegro</td>\n",
       "      <td>5238.48</td>\n",
       "      <td>2</td>\n",
       "      <td>1</td>\n",
       "      <td>1</td>\n",
       "      <td>549.77</td>\n",
       "    </tr>\n",
       "    <tr>\n",
       "      <th>3</th>\n",
       "      <td>IDZZ04847</td>\n",
       "      <td>Omega\\OG-052</td>\n",
       "      <td>Mr. Anthony Rader</td>\n",
       "      <td>M</td>\n",
       "      <td>2017-06-20</td>\n",
       "      <td>2021-01-30</td>\n",
       "      <td>2021-07-07</td>\n",
       "      <td>0</td>\n",
       "      <td>Panama</td>\n",
       "      <td>Jordan</td>\n",
       "      <td>12037.08</td>\n",
       "      <td>2</td>\n",
       "      <td>1</td>\n",
       "      <td>2</td>\n",
       "      <td>1469.49</td>\n",
       "    </tr>\n",
       "    <tr>\n",
       "      <th>4</th>\n",
       "      <td>IDXX97459</td>\n",
       "      <td>Adonis\\AS-873</td>\n",
       "      <td>Ms. Kimberly Davis</td>\n",
       "      <td>F</td>\n",
       "      <td>1990-12-04</td>\n",
       "      <td>2021-03-06</td>\n",
       "      <td>2021-05-02</td>\n",
       "      <td>1</td>\n",
       "      <td>Belarus</td>\n",
       "      <td>Australia</td>\n",
       "      <td>13285.10</td>\n",
       "      <td>2</td>\n",
       "      <td>0</td>\n",
       "      <td>3</td>\n",
       "      <td>4277.56</td>\n",
       "    </tr>\n",
       "    <tr>\n",
       "      <th>5</th>\n",
       "      <td>IDYY79741</td>\n",
       "      <td>Calisto\\CS-769</td>\n",
       "      <td>Mr. Leroy Bosco</td>\n",
       "      <td>M</td>\n",
       "      <td>2016-10-08</td>\n",
       "      <td>2021-02-01</td>\n",
       "      <td>2021-12-22</td>\n",
       "      <td>0</td>\n",
       "      <td>Austria</td>\n",
       "      <td>Paraguay</td>\n",
       "      <td>10735.40</td>\n",
       "      <td>1</td>\n",
       "      <td>1</td>\n",
       "      <td>1</td>\n",
       "      <td>1045.77</td>\n",
       "    </tr>\n",
       "    <tr>\n",
       "      <th>6</th>\n",
       "      <td>IDXX62278</td>\n",
       "      <td>Adonis\\AS-531</td>\n",
       "      <td>Mr. Andrew Louis</td>\n",
       "      <td>M</td>\n",
       "      <td>1988-12-20</td>\n",
       "      <td>2021-09-24</td>\n",
       "      <td>2022-01-30</td>\n",
       "      <td>1</td>\n",
       "      <td>Kiribati</td>\n",
       "      <td>Uruguay</td>\n",
       "      <td>11940.80</td>\n",
       "      <td>1</td>\n",
       "      <td>0</td>\n",
       "      <td>2</td>\n",
       "      <td>2790.91</td>\n",
       "    </tr>\n",
       "    <tr>\n",
       "      <th>7</th>\n",
       "      <td>IDZZ33694</td>\n",
       "      <td>Omega\\OG-039</td>\n",
       "      <td>Mr. Thomas Hardy</td>\n",
       "      <td>M</td>\n",
       "      <td>1983-06-09</td>\n",
       "      <td>2021-10-09</td>\n",
       "      <td>2022-06-02</td>\n",
       "      <td>1</td>\n",
       "      <td>Libya</td>\n",
       "      <td>Ecuador</td>\n",
       "      <td>10648.80</td>\n",
       "      <td>2</td>\n",
       "      <td>0</td>\n",
       "      <td>1</td>\n",
       "      <td>940.53</td>\n",
       "    </tr>\n",
       "    <tr>\n",
       "      <th>8</th>\n",
       "      <td>IDZZ18599</td>\n",
       "      <td>Omega\\OG-314</td>\n",
       "      <td>Ms. Peggy Suarez</td>\n",
       "      <td>F</td>\n",
       "      <td>1982-06-28</td>\n",
       "      <td>2021-06-10</td>\n",
       "      <td>2021-11-06</td>\n",
       "      <td>1</td>\n",
       "      <td>Christmas Island</td>\n",
       "      <td>Mauritania</td>\n",
       "      <td>13186.47</td>\n",
       "      <td>1</td>\n",
       "      <td>1</td>\n",
       "      <td>2</td>\n",
       "      <td>1791.91</td>\n",
       "    </tr>\n",
       "    <tr>\n",
       "      <th>9</th>\n",
       "      <td>IDZZ72899</td>\n",
       "      <td>Omega\\OG-141</td>\n",
       "      <td>Ms. Angela Murphy</td>\n",
       "      <td>F</td>\n",
       "      <td>2007-06-02</td>\n",
       "      <td>2021-09-25</td>\n",
       "      <td>2021-10-06</td>\n",
       "      <td>0</td>\n",
       "      <td>South Korea</td>\n",
       "      <td>Panama</td>\n",
       "      <td>14255.55</td>\n",
       "      <td>1</td>\n",
       "      <td>0</td>\n",
       "      <td>2</td>\n",
       "      <td>2010.43</td>\n",
       "    </tr>\n",
       "  </tbody>\n",
       "</table>\n",
       "</div>"
      ],
      "text/plain": [
       "   ticket_id  airline_flight                name gender         dob  \\\n",
       "0  IDXX93513   Adonis\\AS-998  Ms. Johnna Johnson      F  2001-12-06   \n",
       "1  IDYY64279  Calisto\\CS-120    Mr. Mark Ludeker      M  1986-02-11   \n",
       "2  IDYY04574  Calisto\\CS-368      Mr. Wayne Ruiz      M  2018-01-14   \n",
       "3  IDZZ04847    Omega\\OG-052   Mr. Anthony Rader      M  2017-06-20   \n",
       "4  IDXX97459   Adonis\\AS-873  Ms. Kimberly Davis      F  1990-12-04   \n",
       "5  IDYY79741  Calisto\\CS-769     Mr. Leroy Bosco      M  2016-10-08   \n",
       "6  IDXX62278   Adonis\\AS-531    Mr. Andrew Louis      M  1988-12-20   \n",
       "7  IDZZ33694    Omega\\OG-039    Mr. Thomas Hardy      M  1983-06-09   \n",
       "8  IDZZ18599    Omega\\OG-314    Ms. Peggy Suarez      F  1982-06-28   \n",
       "9  IDZZ72899    Omega\\OG-141   Ms. Angela Murphy      F  2007-06-02   \n",
       "\n",
       "          dop         dod  is_adult              from          to  distance  \\\n",
       "0  2021-05-24  2021-06-08         1           Croatia    Bulgaria    865.10   \n",
       "1  2021-10-23  2022-09-18         1          Mongolia    Suriname  14048.36   \n",
       "2  2021-02-23  2022-02-18         1           Burundi  Montenegro   5238.48   \n",
       "3  2021-01-30  2021-07-07         0            Panama      Jordan  12037.08   \n",
       "4  2021-03-06  2021-05-02         1           Belarus   Australia  13285.10   \n",
       "5  2021-02-01  2021-12-22         0           Austria    Paraguay  10735.40   \n",
       "6  2021-09-24  2022-01-30         1          Kiribati     Uruguay  11940.80   \n",
       "7  2021-10-09  2022-06-02         1             Libya     Ecuador  10648.80   \n",
       "8  2021-06-10  2021-11-06         1  Christmas Island  Mauritania  13186.47   \n",
       "9  2021-09-25  2021-10-06         0       South Korea      Panama  14255.55   \n",
       "\n",
       "   num_stops  has_loyalty  price_tier    price  \n",
       "0          1            1           2   513.15  \n",
       "1          1            0           2  2666.03  \n",
       "2          2            1           1   549.77  \n",
       "3          2            1           2  1469.49  \n",
       "4          2            0           3  4277.56  \n",
       "5          1            1           1  1045.77  \n",
       "6          1            0           2  2790.91  \n",
       "7          2            0           1   940.53  \n",
       "8          1            1           2  1791.91  \n",
       "9          1            0           2  2010.43  "
      ]
     },
     "execution_count": 2,
     "metadata": {},
     "output_type": "execute_result"
    }
   ],
   "source": [
    "# data is loaded from current working directory \n",
    "#load country data \n",
    "country =  pd.read_csv(\"countries.csv\")\n",
    "# load the data to df\n",
    "df = pd.read_csv(\"32073119_dirty.csv\")\n",
    "#print first 10 rows\n",
    "df.head(10)"
   ]
  },
  {
   "cell_type": "markdown",
   "id": "4e0fc202",
   "metadata": {},
   "source": [
    "* **Variable Types:**\n",
    "    * Categorical variables: ticket_id, airline_flight, gender, is_adult, from, to, has_loyalty, name,num_stops\n",
    "    * Ordinal variables: price_tier\n",
    "    * Ratio: distance, price\n",
    "    * Interval: dob, dop, dod\n",
    "* **Numerical Features:**\n",
    "    * continuous: distance, price\n",
    "    "
   ]
  },
  {
   "cell_type": "markdown",
   "id": "e4586e02",
   "metadata": {},
   "source": [
    "1.2 **Observe Data**"
   ]
  },
  {
   "cell_type": "code",
   "execution_count": 3,
   "id": "4f4dbc69",
   "metadata": {},
   "outputs": [
    {
     "name": "stdout",
     "output_type": "stream",
     "text": [
      "<class 'pandas.core.frame.DataFrame'>\n",
      "RangeIndex: 500 entries, 0 to 499\n",
      "Data columns (total 15 columns):\n",
      " #   Column          Non-Null Count  Dtype  \n",
      "---  ------          --------------  -----  \n",
      " 0   ticket_id       500 non-null    object \n",
      " 1   airline_flight  500 non-null    object \n",
      " 2   name            500 non-null    object \n",
      " 3   gender          500 non-null    object \n",
      " 4   dob             500 non-null    object \n",
      " 5   dop             500 non-null    object \n",
      " 6   dod             500 non-null    object \n",
      " 7   is_adult        500 non-null    int64  \n",
      " 8   from            500 non-null    object \n",
      " 9   to              500 non-null    object \n",
      " 10  distance        500 non-null    float64\n",
      " 11  num_stops       500 non-null    int64  \n",
      " 12  has_loyalty     500 non-null    int64  \n",
      " 13  price_tier      500 non-null    int64  \n",
      " 14  price           500 non-null    float64\n",
      "dtypes: float64(2), int64(4), object(9)\n",
      "memory usage: 58.7+ KB\n"
     ]
    }
   ],
   "source": [
    "df.info()"
   ]
  },
  {
   "cell_type": "code",
   "execution_count": 4,
   "id": "b3ab4fe4",
   "metadata": {},
   "outputs": [
    {
     "data": {
      "text/html": [
       "<div>\n",
       "<style scoped>\n",
       "    .dataframe tbody tr th:only-of-type {\n",
       "        vertical-align: middle;\n",
       "    }\n",
       "\n",
       "    .dataframe tbody tr th {\n",
       "        vertical-align: top;\n",
       "    }\n",
       "\n",
       "    .dataframe thead th {\n",
       "        text-align: right;\n",
       "    }\n",
       "</style>\n",
       "<table border=\"1\" class=\"dataframe\">\n",
       "  <thead>\n",
       "    <tr style=\"text-align: right;\">\n",
       "      <th></th>\n",
       "      <th>is_adult</th>\n",
       "      <th>distance</th>\n",
       "      <th>num_stops</th>\n",
       "      <th>has_loyalty</th>\n",
       "      <th>price_tier</th>\n",
       "      <th>price</th>\n",
       "    </tr>\n",
       "  </thead>\n",
       "  <tbody>\n",
       "    <tr>\n",
       "      <th>count</th>\n",
       "      <td>500.000000</td>\n",
       "      <td>500.000000</td>\n",
       "      <td>500.000000</td>\n",
       "      <td>500.000000</td>\n",
       "      <td>500.000000</td>\n",
       "      <td>500.000000</td>\n",
       "    </tr>\n",
       "    <tr>\n",
       "      <th>mean</th>\n",
       "      <td>0.588000</td>\n",
       "      <td>8657.409860</td>\n",
       "      <td>1.234000</td>\n",
       "      <td>0.496000</td>\n",
       "      <td>1.706000</td>\n",
       "      <td>1464.274200</td>\n",
       "    </tr>\n",
       "    <tr>\n",
       "      <th>std</th>\n",
       "      <td>0.492688</td>\n",
       "      <td>4663.799029</td>\n",
       "      <td>0.732336</td>\n",
       "      <td>0.500485</td>\n",
       "      <td>0.547873</td>\n",
       "      <td>834.911137</td>\n",
       "    </tr>\n",
       "    <tr>\n",
       "      <th>min</th>\n",
       "      <td>0.000000</td>\n",
       "      <td>372.350000</td>\n",
       "      <td>0.000000</td>\n",
       "      <td>0.000000</td>\n",
       "      <td>1.000000</td>\n",
       "      <td>227.280000</td>\n",
       "    </tr>\n",
       "    <tr>\n",
       "      <th>25%</th>\n",
       "      <td>0.000000</td>\n",
       "      <td>4897.957500</td>\n",
       "      <td>1.000000</td>\n",
       "      <td>0.000000</td>\n",
       "      <td>1.000000</td>\n",
       "      <td>868.090000</td>\n",
       "    </tr>\n",
       "    <tr>\n",
       "      <th>50%</th>\n",
       "      <td>1.000000</td>\n",
       "      <td>8402.530000</td>\n",
       "      <td>1.000000</td>\n",
       "      <td>0.000000</td>\n",
       "      <td>2.000000</td>\n",
       "      <td>1259.140000</td>\n",
       "    </tr>\n",
       "    <tr>\n",
       "      <th>75%</th>\n",
       "      <td>1.000000</td>\n",
       "      <td>12084.580000</td>\n",
       "      <td>2.000000</td>\n",
       "      <td>1.000000</td>\n",
       "      <td>2.000000</td>\n",
       "      <td>1904.547500</td>\n",
       "    </tr>\n",
       "    <tr>\n",
       "      <th>max</th>\n",
       "      <td>1.000000</td>\n",
       "      <td>19651.630000</td>\n",
       "      <td>2.000000</td>\n",
       "      <td>1.000000</td>\n",
       "      <td>3.000000</td>\n",
       "      <td>5410.370000</td>\n",
       "    </tr>\n",
       "  </tbody>\n",
       "</table>\n",
       "</div>"
      ],
      "text/plain": [
       "         is_adult      distance   num_stops  has_loyalty  price_tier  \\\n",
       "count  500.000000    500.000000  500.000000   500.000000  500.000000   \n",
       "mean     0.588000   8657.409860    1.234000     0.496000    1.706000   \n",
       "std      0.492688   4663.799029    0.732336     0.500485    0.547873   \n",
       "min      0.000000    372.350000    0.000000     0.000000    1.000000   \n",
       "25%      0.000000   4897.957500    1.000000     0.000000    1.000000   \n",
       "50%      1.000000   8402.530000    1.000000     0.000000    2.000000   \n",
       "75%      1.000000  12084.580000    2.000000     1.000000    2.000000   \n",
       "max      1.000000  19651.630000    2.000000     1.000000    3.000000   \n",
       "\n",
       "             price  \n",
       "count   500.000000  \n",
       "mean   1464.274200  \n",
       "std     834.911137  \n",
       "min     227.280000  \n",
       "25%     868.090000  \n",
       "50%    1259.140000  \n",
       "75%    1904.547500  \n",
       "max    5410.370000  "
      ]
     },
     "execution_count": 4,
     "metadata": {},
     "output_type": "execute_result"
    }
   ],
   "source": [
    "df.describe()"
   ]
  },
  {
   "cell_type": "code",
   "execution_count": 5,
   "id": "69e28283",
   "metadata": {},
   "outputs": [
    {
     "name": "stdout",
     "output_type": "stream",
     "text": [
      "2    206\n",
      "1    205\n",
      "0     89\n",
      "Name: num_stops, dtype: int64\n",
      "F    258\n",
      "M    242\n",
      "Name: gender, dtype: int64\n",
      "2    307\n",
      "1    170\n",
      "3     23\n",
      "Name: price_tier, dtype: int64\n",
      "0    252\n",
      "1    248\n",
      "Name: has_loyalty, dtype: int64\n",
      "1    294\n",
      "0    206\n",
      "Name: is_adult, dtype: int64\n"
     ]
    }
   ],
   "source": [
    "print(df.num_stops.value_counts())\n",
    "print(df.gender.value_counts())\n",
    "print(df.price_tier.value_counts())\n",
    "print(df.has_loyalty.value_counts())\n",
    "print(df.is_adult.value_counts())"
   ]
  },
  {
   "cell_type": "markdown",
   "id": "1b1d2bcc",
   "metadata": {},
   "source": [
    "* According to the tables:\n",
    "    * There are 500 samples and no missing value\n",
    "    * is_adult and has_loyalty are categorical feature with 0 or 1\n",
    "    * price_tier is ordinal, from 1 - 3\n",
    "    * the max num_stops is 2\n",
    "    * distance and price varies significantly "
   ]
  },
  {
   "cell_type": "code",
   "execution_count": 6,
   "id": "3c1c3e29",
   "metadata": {},
   "outputs": [
    {
     "data": {
      "text/html": [
       "<div>\n",
       "<style scoped>\n",
       "    .dataframe tbody tr th:only-of-type {\n",
       "        vertical-align: middle;\n",
       "    }\n",
       "\n",
       "    .dataframe tbody tr th {\n",
       "        vertical-align: top;\n",
       "    }\n",
       "\n",
       "    .dataframe thead th {\n",
       "        text-align: right;\n",
       "    }\n",
       "</style>\n",
       "<table border=\"1\" class=\"dataframe\">\n",
       "  <thead>\n",
       "    <tr style=\"text-align: right;\">\n",
       "      <th></th>\n",
       "      <th>ticket_id</th>\n",
       "      <th>airline_flight</th>\n",
       "      <th>name</th>\n",
       "      <th>gender</th>\n",
       "      <th>dob</th>\n",
       "      <th>dop</th>\n",
       "      <th>dod</th>\n",
       "      <th>from</th>\n",
       "      <th>to</th>\n",
       "    </tr>\n",
       "  </thead>\n",
       "  <tbody>\n",
       "    <tr>\n",
       "      <th>count</th>\n",
       "      <td>500</td>\n",
       "      <td>500</td>\n",
       "      <td>500</td>\n",
       "      <td>500</td>\n",
       "      <td>500</td>\n",
       "      <td>500</td>\n",
       "      <td>500</td>\n",
       "      <td>500</td>\n",
       "      <td>500</td>\n",
       "    </tr>\n",
       "    <tr>\n",
       "      <th>unique</th>\n",
       "      <td>500</td>\n",
       "      <td>461</td>\n",
       "      <td>497</td>\n",
       "      <td>2</td>\n",
       "      <td>491</td>\n",
       "      <td>274</td>\n",
       "      <td>337</td>\n",
       "      <td>212</td>\n",
       "      <td>214</td>\n",
       "    </tr>\n",
       "    <tr>\n",
       "      <th>top</th>\n",
       "      <td>IDYY33374</td>\n",
       "      <td>Calisto\\CS-600</td>\n",
       "      <td>Mr. Jimmy Corf</td>\n",
       "      <td>F</td>\n",
       "      <td>1983-06-09</td>\n",
       "      <td>2021-01-17</td>\n",
       "      <td>2021-12-22</td>\n",
       "      <td>Zimbabwe</td>\n",
       "      <td>Suriname</td>\n",
       "    </tr>\n",
       "    <tr>\n",
       "      <th>freq</th>\n",
       "      <td>1</td>\n",
       "      <td>3</td>\n",
       "      <td>2</td>\n",
       "      <td>258</td>\n",
       "      <td>2</td>\n",
       "      <td>5</td>\n",
       "      <td>4</td>\n",
       "      <td>7</td>\n",
       "      <td>8</td>\n",
       "    </tr>\n",
       "  </tbody>\n",
       "</table>\n",
       "</div>"
      ],
      "text/plain": [
       "        ticket_id  airline_flight            name gender         dob  \\\n",
       "count         500             500             500    500         500   \n",
       "unique        500             461             497      2         491   \n",
       "top     IDYY33374  Calisto\\CS-600  Mr. Jimmy Corf      F  1983-06-09   \n",
       "freq            1               3               2    258           2   \n",
       "\n",
       "               dop         dod      from        to  \n",
       "count          500         500       500       500  \n",
       "unique         274         337       212       214  \n",
       "top     2021-01-17  2021-12-22  Zimbabwe  Suriname  \n",
       "freq             5           4         7         8  "
      ]
     },
     "execution_count": 6,
     "metadata": {},
     "output_type": "execute_result"
    }
   ],
   "source": [
    "df.describe(include=['O'])"
   ]
  },
  {
   "cell_type": "markdown",
   "id": "289a2a05",
   "metadata": {},
   "source": [
    "* This table tells me:\n",
    "    * there are 500 unique ticket_id which makes sense, because we should not have duplicate ID\n",
    "    * we only have 461 unique flights, probably because one flight sold multiple tickets and the max frequency is 3\n",
    "    * we have 497 passengers, Jimmy Corf probably bought two tickets\n",
    "    * We have two genders, M and F\n",
    "    * only 491 unique date of birth, probably Some people were born on the same day\n",
    "    * plane may depature or arrive on the same day\n",
    "    * we have 212 depature countries and 214 destination countries"
   ]
  },
  {
   "cell_type": "markdown",
   "id": "87b01f40",
   "metadata": {},
   "source": [
    "1.3 **Find Anomalies**\n",
    "\n",
    "#### Are all airline name consistent?"
   ]
  },
  {
   "cell_type": "code",
   "execution_count": 7,
   "id": "0aad97a3",
   "metadata": {},
   "outputs": [
    {
     "name": "stdout",
     "output_type": "stream",
     "text": [
      "Adonis\\AS     175\n",
      "Calisto\\CS    165\n",
      "Omega\\OG      155\n",
      "Omega\\AS        1\n",
      "Adonis\\CS       1\n",
      "Calisto\\cs      1\n",
      "Adonis\\cs       1\n",
      "Omega\\og        1\n",
      "Name: airline, dtype: int64\n"
     ]
    }
   ],
   "source": [
    "error_found = 0\n",
    "# Lets seperate the airline name from the flight\n",
    "airline = df['airline_flight'].apply(lambda s: pd.Series({'airline': s.split(\"-\")[0].strip(),\n",
    "                            'number':s.split(\"-\")[1].strip()}))\n",
    "print(airline.airline.value_counts())"
   ]
  },
  {
   "cell_type": "markdown",
   "id": "2af82f49",
   "metadata": {},
   "source": [
    "The output shows there are lexical errors:\n",
    "\n",
    "* typos: \n",
    "    * Omega\\OG VS Omega\\AS\n",
    "    * Adonis\\AS VS Adonis\\cs\n",
    "    * Adonis\\AS VS Adonis\\CS \n",
    "* Inconsistent Spelling:\n",
    "    * Omega\\OG VS Omega\\og\n",
    "    * Calisto\\CS VS Calisto\\cs\n",
    "    \n",
    "   \n",
    "Assume spelling with large count is correct        "
   ]
  },
  {
   "cell_type": "code",
   "execution_count": 8,
   "id": "17e75465",
   "metadata": {},
   "outputs": [],
   "source": [
    "#since there will be no more than 1 error in each row, so I use this list to record which has error\n",
    "row_error = []\n",
    "row_error.append(airline[airline['airline'] == \"Omega\\AS\"].index[0])\n",
    "row_error.append(airline[airline['airline'] == \"Calisto\\cs\"].index[0])\n",
    "row_error.append(airline[airline['airline'] == \"Omega\\og\"].index[0])\n",
    "row_error.append(airline[airline['airline'] == \"Adonis\\CS\"].index[0])\n",
    "row_error.append(airline[airline['airline'] == \"Adonis\\cs\"].index[0])\n",
    "# fix errors:\n",
    "airline[\"airline\"].replace({\"Omega\\AS\":\"Omega\\OG\",\"Adonis\\cs\":\"Adonis\\AS\",\n",
    "                            \"Adonis\\CS\":\"Adonis\\AS\",\"Omega\\og\":\"Omega\\OG\",\"Calisto\\cs\":\"Calisto\\CS\",\n",
    "                            \"Omega\\OG\":\"Omega\\OG\"},inplace=True)\n",
    "df[\"airline_flight\"] = airline[\"airline\"] + \"-\" + airline[\"number\"]"
   ]
  },
  {
   "cell_type": "markdown",
   "id": "ac9468e2",
   "metadata": {},
   "source": [
    "#### Are all title consistent?"
   ]
  },
  {
   "cell_type": "code",
   "execution_count": 9,
   "id": "762cda5e",
   "metadata": {},
   "outputs": [
    {
     "data": {
      "text/plain": [
       "Ms    252\n",
       "Mr    248\n",
       "Name: title, dtype: int64"
      ]
     },
     "execution_count": 9,
     "metadata": {},
     "output_type": "execute_result"
    }
   ],
   "source": [
    "names = df['name'].apply(lambda s: pd.Series({'title': s.split(\".\")[0].strip(),\n",
    "                            'name':s.split(\".\")[1].strip()}))\n",
    "names[\"gender\"] = df.gender\n",
    "names.title.value_counts()"
   ]
  },
  {
   "cell_type": "markdown",
   "id": "afe7025d",
   "metadata": {},
   "source": [
    "Looks like the title is consistent\n",
    "\n",
    "#### How about gender and title?"
   ]
  },
  {
   "cell_type": "code",
   "execution_count": 10,
   "id": "3f3d95bd",
   "metadata": {},
   "outputs": [
    {
     "name": "stdout",
     "output_type": "stream",
     "text": [
      "So we found 10 passengers' gender were wrong, according to note 9,name is error-free, so title should be fine\n"
     ]
    }
   ],
   "source": [
    "count = names[((names.title == \"Ms\") & (names.gender != \"F\")) | ((names.title == \"Mr\") & (names.gender != \"M\"))].index\n",
    "print( \"So we found {} passengers' gender were wrong, according to note 9,name is error-free, so title should be fine\".\n",
    "      format(len(count)))\n",
    "row_error = row_error + list(count)"
   ]
  },
  {
   "cell_type": "code",
   "execution_count": 11,
   "id": "d8c3df01",
   "metadata": {},
   "outputs": [],
   "source": [
    "#lets fix it\n",
    "names.gender = names.title\n",
    "names.gender.replace({\"Ms\":\"F\",\"Mr\":\"M\"},inplace=True)\n",
    "df.gender = names.gender"
   ]
  },
  {
   "cell_type": "markdown",
   "id": "fbbdf7b1",
   "metadata": {},
   "source": [
    "###### Is the record for is_adults correct?\n",
    "\n",
    "Assuming age 16+ is an adult and age of passenger is determined by using dop minus dob"
   ]
  },
  {
   "cell_type": "code",
   "execution_count": 12,
   "id": "c76fd200",
   "metadata": {},
   "outputs": [
    {
     "name": "stdout",
     "output_type": "stream",
     "text": [
      "I found 6 errors and let's have a look at them \n"
     ]
    },
    {
     "data": {
      "text/plain": [
       "32                   1992-15-10\n",
       "37                   2003-15-01\n",
       "238                  2013-27-12\n",
       "368    Mon Aug  2 00:00:00 2021\n",
       "459                 2007-Aug-02\n",
       "468    Sun Sep  8 00:00:00 1991\n",
       "Name: dob, dtype: object"
      ]
     },
     "execution_count": 12,
     "metadata": {},
     "output_type": "execute_result"
    }
   ],
   "source": [
    "#by observing the dataframe, I can see the date is in Y-m-d format\n",
    "#I also realise that the data format is not consistent, \n",
    "#so I will use following code to check which cell has the wrong format\n",
    "df['check'] = pd.to_datetime(df.dob,format='%Y-%m-%d',errors='coerce')\n",
    "print(\"I found {} errors and let's have a look at them \".format(df.check.isna().sum()))\n",
    "df[df.check.isna()].dob"
   ]
  },
  {
   "cell_type": "code",
   "execution_count": 13,
   "id": "0883cfd0",
   "metadata": {},
   "outputs": [
    {
     "name": "stdout",
     "output_type": "stream",
     "text": [
      "Then check dop\n"
     ]
    }
   ],
   "source": [
    "#lets fix them one by one\n",
    "df.at[32,'check'] = pd.to_datetime(df.dob[32],format='%Y-%d-%m')\n",
    "df.at[37,'check'] =  pd.to_datetime(df.dob[37],format='%Y-%d-%m')\n",
    "df.at[238,'check'] =  pd.to_datetime(df.dob[37],format='%Y-%d-%m')\n",
    "df.at[368,'check'] =   pd.to_datetime(df.dob[368])\n",
    "df.at[459,'check'] =   pd.to_datetime(df.dob[459])\n",
    "df.at[468,'check'] =   pd.to_datetime(df.dob[468])\n",
    "#discard the check column and update dob\n",
    "df.dob = df.check\n",
    "df.drop('check', inplace=True, axis=1)\n",
    "print(\"Then check dop\")\n",
    "row_error = row_error + [32,37,238,368,459,468]"
   ]
  },
  {
   "cell_type": "code",
   "execution_count": 14,
   "id": "e87bda0c",
   "metadata": {},
   "outputs": [
    {
     "name": "stdout",
     "output_type": "stream",
     "text": [
      "I found 5 errors and let's have a look at them \n"
     ]
    },
    {
     "data": {
      "text/plain": [
       "149    2021-30-05\n",
       "237    2021-18-02\n",
       "382    2021-13-03\n",
       "443    2021-23-04\n",
       "491    2021-13-06\n",
       "Name: dop, dtype: object"
      ]
     },
     "execution_count": 14,
     "metadata": {},
     "output_type": "execute_result"
    }
   ],
   "source": [
    "df['check'] = pd.to_datetime(df.dop,format='%Y-%m-%d',errors='coerce')\n",
    "print(\"I found {} errors and let's have a look at them \".format(df.check.isna().sum()))\n",
    "df[df.check.isna()].dop"
   ]
  },
  {
   "cell_type": "code",
   "execution_count": 15,
   "id": "59cfe1b0",
   "metadata": {},
   "outputs": [
    {
     "name": "stdout",
     "output_type": "stream",
     "text": [
      "Then check dod\n"
     ]
    }
   ],
   "source": [
    "#lets fix them one by one\n",
    "df.at[149,'check'] =   pd.to_datetime(df.dop[149],format='%Y-%d-%m')\n",
    "df.at[237,'check'] =   pd.to_datetime(df.dop[237],format='%Y-%d-%m')\n",
    "df.at[382,'check'] =   pd.to_datetime(df.dop[382],format='%Y-%d-%m')\n",
    "df.at[443,'check'] =   pd.to_datetime(df.dop[443],format='%Y-%d-%m')\n",
    "df.at[491,'check'] =   pd.to_datetime(df.dop[491],format='%Y-%d-%m')\n",
    "#discard the check column and update dop\n",
    "df.dop = df.check\n",
    "df.drop('check', inplace=True, axis=1)\n",
    "print(\"Then check dod\") "
   ]
  },
  {
   "cell_type": "code",
   "execution_count": 16,
   "id": "ad5f6344",
   "metadata": {},
   "outputs": [
    {
     "name": "stdout",
     "output_type": "stream",
     "text": [
      "I found 6 errors and let's have a look at them \n"
     ]
    },
    {
     "data": {
      "text/plain": [
       "11     Fri Mar 11 00:00:00 2022\n",
       "40     Sun Nov  7 00:00:00 2021\n",
       "112    Sat Sep 11 00:00:00 2021\n",
       "315                 2022-Jan-03\n",
       "401    Tue Oct 12 00:00:00 2021\n",
       "467                 2022-Feb-09\n",
       "Name: dod, dtype: object"
      ]
     },
     "execution_count": 16,
     "metadata": {},
     "output_type": "execute_result"
    }
   ],
   "source": [
    "df['check'] = pd.to_datetime(df.dod,format='%Y-%m-%d',errors='coerce')\n",
    "print(\"I found {} errors and let's have a look at them \".format(df.check.isna().sum()))\n",
    "df[df.check.isna()].dod"
   ]
  },
  {
   "cell_type": "code",
   "execution_count": 17,
   "id": "1036b1e5",
   "metadata": {},
   "outputs": [],
   "source": [
    "#lets fix them one by one\n",
    "df.at[11,'check'] =   pd.to_datetime(df.dod[11])\n",
    "df.at[40,'check'] =   pd.to_datetime(df.dod[40])\n",
    "df.at[112,'check'] =   pd.to_datetime(df.dod[112])\n",
    "df.at[315,'check'] =   pd.to_datetime(df.dod[315])\n",
    "df.at[401,'check'] =   pd.to_datetime(df.dod[401])\n",
    "df.at[467,'check'] =   pd.to_datetime(df.dod[467])\n",
    "#discard the check column and update dod\n",
    "df.dod = df.check\n",
    "df.drop('check', inplace=True, axis=1)\n",
    "row_error = row_error + [11,40,112,315,401,467]"
   ]
  },
  {
   "cell_type": "code",
   "execution_count": 18,
   "id": "ade2d107",
   "metadata": {},
   "outputs": [
    {
     "name": "stdout",
     "output_type": "stream",
     "text": [
      "row: 53\n",
      "2021-09-09 00:00:00  |  2021-01-05 00:00:00  |  2021-04-12 00:00:00  |  0\n",
      "row: 103\n",
      "2021-05-01 00:00:00  |  2021-01-26 00:00:00  |  2021-10-22 00:00:00  |  0\n",
      "row: 104\n",
      "2021-12-30 00:00:00  |  2021-03-29 00:00:00  |  2021-10-02 00:00:00  |  0\n",
      "row: 114\n",
      "2021-08-17 00:00:00  |  2021-04-08 00:00:00  |  2021-09-30 00:00:00  |  0\n",
      "row: 436\n",
      "2021-11-14 00:00:00  |  2021-04-07 00:00:00  |  2021-06-26 00:00:00  |  0\n",
      "row: 447\n",
      "2021-09-03 00:00:00  |  2021-08-07 00:00:00  |  2022-01-09 00:00:00  |  0\n"
     ]
    }
   ],
   "source": [
    "#assume 1 year = 365 days\n",
    "#lets check is_adult\n",
    "error_count=0\n",
    "for i in range(500):\n",
    "    #if it is less than 16 and is_adult =1\n",
    "    if (0 <((df.dop[i] - df.dob[i]).days/365) <16) and df.is_adult[i] ==1:\n",
    "        df.at[i,'is_adult'] = 0\n",
    "        error_count += 1\n",
    "        row_error.append(i)\n",
    "    #just want to see if there is any errors that dop greater than dob or dod greater than dop\n",
    "    if (df.dop[i] - df.dob[i]).days <0 or (df.dod[i] - df.dop[i]).days <0:\n",
    "        row_error.append(i)\n",
    "        print(\"row:\",i)\n",
    "        print(df.dob[i],\" | \",df.dop[i],\" | \",df.dod[i],\" | \",df.is_adult[i])"
   ]
  },
  {
   "cell_type": "markdown",
   "id": "46d233cf",
   "metadata": {},
   "source": [
    "Also this is what it looks like in the dirty.csv file, so it's not a bug from changing the date format\n",
    "\n",
    "The problem here is dop, even some dods predate dob. So I Google: \n",
    "\n",
    "\"Booking a flight to include a child not born yet?\"\n",
    "\n",
    "and \"Do I need to buy an extra ticket if my child is born on the plane?\", the answer is no.\n",
    "\n",
    "So what I can do here is either remove this rows or switch cells to make them reasonable and I decided to switch them"
   ]
  },
  {
   "cell_type": "code",
   "execution_count": 19,
   "id": "cd228ef1",
   "metadata": {},
   "outputs": [],
   "source": [
    "#lets fix them one by one\n",
    "#dob will be the earliest date, then dop and dod\n",
    "rows = [53,103,104,114,436,447]\n",
    "for row in rows:\n",
    "    fix = [df.dob[row],df.dod[row],df.dop[row]]\n",
    "    fix.sort()\n",
    "    df.at[row,'dob'] = fix[0]\n",
    "    df.at[row,'dop'] = fix[1]\n",
    "    df.at[row,'dod'] = fix[2]"
   ]
  },
  {
   "cell_type": "markdown",
   "id": "12e69c64",
   "metadata": {},
   "source": [
    "#### How about duplicate data?|"
   ]
  },
  {
   "cell_type": "code",
   "execution_count": 20,
   "id": "aee94514",
   "metadata": {},
   "outputs": [
    {
     "data": {
      "text/html": [
       "<div>\n",
       "<style scoped>\n",
       "    .dataframe tbody tr th:only-of-type {\n",
       "        vertical-align: middle;\n",
       "    }\n",
       "\n",
       "    .dataframe tbody tr th {\n",
       "        vertical-align: top;\n",
       "    }\n",
       "\n",
       "    .dataframe thead th {\n",
       "        text-align: right;\n",
       "    }\n",
       "</style>\n",
       "<table border=\"1\" class=\"dataframe\">\n",
       "  <thead>\n",
       "    <tr style=\"text-align: right;\">\n",
       "      <th></th>\n",
       "      <th>ticket_id</th>\n",
       "      <th>airline_flight</th>\n",
       "      <th>name</th>\n",
       "      <th>gender</th>\n",
       "      <th>dob</th>\n",
       "      <th>dop</th>\n",
       "      <th>dod</th>\n",
       "      <th>is_adult</th>\n",
       "      <th>from</th>\n",
       "      <th>to</th>\n",
       "      <th>distance</th>\n",
       "      <th>num_stops</th>\n",
       "      <th>has_loyalty</th>\n",
       "      <th>price_tier</th>\n",
       "      <th>price</th>\n",
       "    </tr>\n",
       "  </thead>\n",
       "  <tbody>\n",
       "    <tr>\n",
       "      <th>66</th>\n",
       "      <td>IDYY50245</td>\n",
       "      <td>Calisto\\CS-563</td>\n",
       "      <td>Ms. Rebecca Long</td>\n",
       "      <td>F</td>\n",
       "      <td>1992-01-03</td>\n",
       "      <td>2021-05-07</td>\n",
       "      <td>2021-11-12</td>\n",
       "      <td>1</td>\n",
       "      <td>Armenia</td>\n",
       "      <td>Spain</td>\n",
       "      <td>4089.86</td>\n",
       "      <td>1</td>\n",
       "      <td>1</td>\n",
       "      <td>1</td>\n",
       "      <td>676.12</td>\n",
       "    </tr>\n",
       "    <tr>\n",
       "      <th>119</th>\n",
       "      <td>IDYY38085</td>\n",
       "      <td>Calisto\\CS-645</td>\n",
       "      <td>Mr. Jimmy Corf</td>\n",
       "      <td>M</td>\n",
       "      <td>2012-04-25</td>\n",
       "      <td>2021-08-19</td>\n",
       "      <td>2021-09-21</td>\n",
       "      <td>0</td>\n",
       "      <td>Poland</td>\n",
       "      <td>Tuvalu</td>\n",
       "      <td>14674.56</td>\n",
       "      <td>2</td>\n",
       "      <td>0</td>\n",
       "      <td>2</td>\n",
       "      <td>2530.23</td>\n",
       "    </tr>\n",
       "    <tr>\n",
       "      <th>125</th>\n",
       "      <td>IDXX33456</td>\n",
       "      <td>Adonis\\AS-919</td>\n",
       "      <td>Ms. Josefa Winkler</td>\n",
       "      <td>F</td>\n",
       "      <td>1998-02-04</td>\n",
       "      <td>2021-06-19</td>\n",
       "      <td>2021-08-04</td>\n",
       "      <td>1</td>\n",
       "      <td>Czech Republic</td>\n",
       "      <td>Lithuania</td>\n",
       "      <td>823.34</td>\n",
       "      <td>2</td>\n",
       "      <td>0</td>\n",
       "      <td>2</td>\n",
       "      <td>463.84</td>\n",
       "    </tr>\n",
       "    <tr>\n",
       "      <th>178</th>\n",
       "      <td>IDXX17747</td>\n",
       "      <td>Adonis\\AS-841</td>\n",
       "      <td>Mr. Jimmy Corf</td>\n",
       "      <td>M</td>\n",
       "      <td>2019-03-06</td>\n",
       "      <td>2021-09-16</td>\n",
       "      <td>2022-05-03</td>\n",
       "      <td>0</td>\n",
       "      <td>Tuvalu</td>\n",
       "      <td>Burundi</td>\n",
       "      <td>16266.82</td>\n",
       "      <td>2</td>\n",
       "      <td>0</td>\n",
       "      <td>1</td>\n",
       "      <td>1819.01</td>\n",
       "    </tr>\n",
       "    <tr>\n",
       "      <th>272</th>\n",
       "      <td>IDYY43295</td>\n",
       "      <td>Calisto\\CS-440</td>\n",
       "      <td>Ms. Josefa Winkler</td>\n",
       "      <td>F</td>\n",
       "      <td>1997-08-15</td>\n",
       "      <td>2021-04-19</td>\n",
       "      <td>2021-08-02</td>\n",
       "      <td>1</td>\n",
       "      <td>Mexico</td>\n",
       "      <td>Kenya</td>\n",
       "      <td>15023.68</td>\n",
       "      <td>1</td>\n",
       "      <td>1</td>\n",
       "      <td>2</td>\n",
       "      <td>2537.75</td>\n",
       "    </tr>\n",
       "    <tr>\n",
       "      <th>317</th>\n",
       "      <td>IDXX11351</td>\n",
       "      <td>Adonis\\AS-371</td>\n",
       "      <td>Ms. Rebecca Long</td>\n",
       "      <td>F</td>\n",
       "      <td>2014-04-23</td>\n",
       "      <td>2021-11-10</td>\n",
       "      <td>2022-09-22</td>\n",
       "      <td>0</td>\n",
       "      <td>South Africa</td>\n",
       "      <td>Finland</td>\n",
       "      <td>10298.12</td>\n",
       "      <td>1</td>\n",
       "      <td>0</td>\n",
       "      <td>1</td>\n",
       "      <td>1332.06</td>\n",
       "    </tr>\n",
       "  </tbody>\n",
       "</table>\n",
       "</div>"
      ],
      "text/plain": [
       "     ticket_id  airline_flight                name gender        dob  \\\n",
       "66   IDYY50245  Calisto\\CS-563    Ms. Rebecca Long      F 1992-01-03   \n",
       "119  IDYY38085  Calisto\\CS-645      Mr. Jimmy Corf      M 2012-04-25   \n",
       "125  IDXX33456   Adonis\\AS-919  Ms. Josefa Winkler      F 1998-02-04   \n",
       "178  IDXX17747   Adonis\\AS-841      Mr. Jimmy Corf      M 2019-03-06   \n",
       "272  IDYY43295  Calisto\\CS-440  Ms. Josefa Winkler      F 1997-08-15   \n",
       "317  IDXX11351   Adonis\\AS-371    Ms. Rebecca Long      F 2014-04-23   \n",
       "\n",
       "           dop        dod  is_adult            from         to  distance  \\\n",
       "66  2021-05-07 2021-11-12         1         Armenia      Spain   4089.86   \n",
       "119 2021-08-19 2021-09-21         0          Poland     Tuvalu  14674.56   \n",
       "125 2021-06-19 2021-08-04         1  Czech Republic  Lithuania    823.34   \n",
       "178 2021-09-16 2022-05-03         0          Tuvalu    Burundi  16266.82   \n",
       "272 2021-04-19 2021-08-02         1          Mexico      Kenya  15023.68   \n",
       "317 2021-11-10 2022-09-22         0    South Africa    Finland  10298.12   \n",
       "\n",
       "     num_stops  has_loyalty  price_tier    price  \n",
       "66           1            1           1   676.12  \n",
       "119          2            0           2  2530.23  \n",
       "125          2            0           2   463.84  \n",
       "178          2            0           1  1819.01  \n",
       "272          1            1           2  2537.75  \n",
       "317          1            0           1  1332.06  "
      ]
     },
     "execution_count": 20,
     "metadata": {},
     "output_type": "execute_result"
    }
   ],
   "source": [
    "df[df.duplicated([\"name\"], keep=False)]"
   ]
  },
  {
   "cell_type": "markdown",
   "id": "3b7629ec",
   "metadata": {},
   "source": [
    "They all have different date of birth, I assume they are different person and data is fine\n",
    "\n",
    " \n",
    "#### How about distance?\n",
    "\n",
    "country in dirty.csv is error free and no error in countries.csv, so we can use longitude and latitude to check the distance"
   ]
  },
  {
   "cell_type": "code",
   "execution_count": 21,
   "id": "1d7d7222",
   "metadata": {},
   "outputs": [
    {
     "data": {
      "text/html": [
       "<div>\n",
       "<style scoped>\n",
       "    .dataframe tbody tr th:only-of-type {\n",
       "        vertical-align: middle;\n",
       "    }\n",
       "\n",
       "    .dataframe tbody tr th {\n",
       "        vertical-align: top;\n",
       "    }\n",
       "\n",
       "    .dataframe thead th {\n",
       "        text-align: right;\n",
       "    }\n",
       "</style>\n",
       "<table border=\"1\" class=\"dataframe\">\n",
       "  <thead>\n",
       "    <tr style=\"text-align: right;\">\n",
       "      <th></th>\n",
       "      <th>name</th>\n",
       "      <th>country</th>\n",
       "      <th>latitude</th>\n",
       "      <th>longitude</th>\n",
       "    </tr>\n",
       "  </thead>\n",
       "  <tbody>\n",
       "    <tr>\n",
       "      <th>0</th>\n",
       "      <td>Andorra</td>\n",
       "      <td>AD</td>\n",
       "      <td>42.546245</td>\n",
       "      <td>1.601554</td>\n",
       "    </tr>\n",
       "    <tr>\n",
       "      <th>1</th>\n",
       "      <td>United Arab Emirates</td>\n",
       "      <td>AE</td>\n",
       "      <td>23.424076</td>\n",
       "      <td>53.847818</td>\n",
       "    </tr>\n",
       "    <tr>\n",
       "      <th>2</th>\n",
       "      <td>Afghanistan</td>\n",
       "      <td>AF</td>\n",
       "      <td>33.939110</td>\n",
       "      <td>67.709953</td>\n",
       "    </tr>\n",
       "    <tr>\n",
       "      <th>3</th>\n",
       "      <td>Antigua and Barbuda</td>\n",
       "      <td>AG</td>\n",
       "      <td>17.060816</td>\n",
       "      <td>-61.796428</td>\n",
       "    </tr>\n",
       "    <tr>\n",
       "      <th>4</th>\n",
       "      <td>Anguilla</td>\n",
       "      <td>AI</td>\n",
       "      <td>18.220554</td>\n",
       "      <td>-63.068615</td>\n",
       "    </tr>\n",
       "    <tr>\n",
       "      <th>5</th>\n",
       "      <td>Albania</td>\n",
       "      <td>AL</td>\n",
       "      <td>41.153332</td>\n",
       "      <td>20.168331</td>\n",
       "    </tr>\n",
       "    <tr>\n",
       "      <th>6</th>\n",
       "      <td>Armenia</td>\n",
       "      <td>AM</td>\n",
       "      <td>40.069099</td>\n",
       "      <td>45.038189</td>\n",
       "    </tr>\n",
       "    <tr>\n",
       "      <th>7</th>\n",
       "      <td>Netherlands Antilles</td>\n",
       "      <td>AN</td>\n",
       "      <td>12.226079</td>\n",
       "      <td>-69.060087</td>\n",
       "    </tr>\n",
       "    <tr>\n",
       "      <th>8</th>\n",
       "      <td>Angola</td>\n",
       "      <td>AO</td>\n",
       "      <td>-11.202692</td>\n",
       "      <td>17.873887</td>\n",
       "    </tr>\n",
       "    <tr>\n",
       "      <th>9</th>\n",
       "      <td>Antarctica</td>\n",
       "      <td>AQ</td>\n",
       "      <td>-75.250973</td>\n",
       "      <td>-0.071389</td>\n",
       "    </tr>\n",
       "  </tbody>\n",
       "</table>\n",
       "</div>"
      ],
      "text/plain": [
       "                   name country   latitude  longitude\n",
       "0               Andorra      AD  42.546245   1.601554\n",
       "1  United Arab Emirates      AE  23.424076  53.847818\n",
       "2           Afghanistan      AF  33.939110  67.709953\n",
       "3   Antigua and Barbuda      AG  17.060816 -61.796428\n",
       "4              Anguilla      AI  18.220554 -63.068615\n",
       "5               Albania      AL  41.153332  20.168331\n",
       "6               Armenia      AM  40.069099  45.038189\n",
       "7  Netherlands Antilles      AN  12.226079 -69.060087\n",
       "8                Angola      AO -11.202692  17.873887\n",
       "9            Antarctica      AQ -75.250973  -0.071389"
      ]
     },
     "execution_count": 21,
     "metadata": {},
     "output_type": "execute_result"
    }
   ],
   "source": [
    "country.head(10)"
   ]
  },
  {
   "cell_type": "code",
   "execution_count": 22,
   "id": "bd8db92e",
   "metadata": {},
   "outputs": [
    {
     "data": {
      "text/plain": [
       "(array([  1.,   1.,   1.,   1.,   1.,   0.,   0., 494.,   0.,   1.]),\n",
       " array([-10105.03386492,  -8690.60120336,  -7276.16854181,  -5861.73588025,\n",
       "         -4447.30321869,  -3032.87055714,  -1618.43789558,   -204.00523402,\n",
       "          1210.42742753,   2624.86008909,   4039.29275065]),\n",
       " <BarContainer object of 10 artists>)"
      ]
     },
     "execution_count": 22,
     "metadata": {},
     "output_type": "execute_result"
    },
    {
     "data": {
      "image/png": "[encoded data removed]",
      "text/plain": [
       "<Figure size 432x288 with 1 Axes>"
      ]
     },
     "metadata": {
      "needs_background": "light"
     },
     "output_type": "display_data"
    }
   ],
   "source": [
    "# = radius of earth in km\n",
    "R = 6378\n",
    "difference = []\n",
    "#see reference\n",
    "# the formula is found online, is about using latitude and longitude to calculate the distance\n",
    "for row in range(500):\n",
    "    lat1 = radians(country[country.name == df[\"from\"][row]].latitude)\n",
    "    long1 = radians(country[country.name == df[\"from\"][row]].longitude)\n",
    "    lat2 = radians(country[country.name == df[\"to\"][row]].latitude)\n",
    "    long2 = radians(country[country.name == df[\"to\"][row]].longitude) \n",
    "    dlon = long2 - long1\n",
    "    dlat = lat2 - lat1\n",
    "    a = sin(dlat / 2)**2 + cos(lat1) * cos(lat2) * sin(dlon / 2)**2\n",
    "    c = 2 * atan2(sqrt(a), sqrt(1 - a))\n",
    "    distance = R * c\n",
    "    d = distance - df[\"distance\"][row]\n",
    "    difference.append(d) \n",
    "plt.hist(difference)"
   ]
  },
  {
   "cell_type": "code",
   "execution_count": 23,
   "id": "d60d80dc",
   "metadata": {},
   "outputs": [
    {
     "name": "stdout",
     "output_type": "stream",
     "text": [
      "I found that 6 values differ by more than 1, the rest are so small that I will ignore them\n"
     ]
    }
   ],
   "source": [
    "# lets see how many errors\n",
    "count = 0\n",
    "for i in range(500):\n",
    "    if abs(difference[i]) > 1:\n",
    "        df.at[i,'distance'] = df.distance[i] + difference[i]\n",
    "        row_error.append(i)\n",
    "        count += 1\n",
    "print(\"I found that {} values differ by more than 1, the rest are so small that I will ignore them\".\n",
    "      format(count))"
   ]
  },
  {
   "cell_type": "markdown",
   "id": "370e9d94",
   "metadata": {},
   "source": [
    "#### How about price tier?"
   ]
  },
  {
   "cell_type": "code",
   "execution_count": 24,
   "id": "575aeacd",
   "metadata": {},
   "outputs": [
    {
     "name": "stdout",
     "output_type": "stream",
     "text": [
      "Found 8 errors\n"
     ]
    }
   ],
   "source": [
    "#according to note 6, dpbd = dod-dop\n",
    "count = 0\n",
    "for i in range(500):\n",
    "    dpbd = (df.dod[i]-df.dop[i]).days\n",
    "    if dpbd >= 180:\n",
    "        #if it is weekend and price tier is not equals to 2\n",
    "        if df.dod[i].weekday() in [5,6] and df.price_tier[i] !=2:\n",
    "            count +=1\n",
    "            df.at[i,\"price_tier\"] = 2\n",
    "        #if not traveled on weekend and price tier is not 1\n",
    "        elif df.dod[i].weekday() not in [5,6] and df.price_tier[i] !=1:\n",
    "            count +=1\n",
    "            df.at[i,\"price_tier\"] = 1\n",
    "    elif dpbd < 180:\n",
    "        if dpbd <= 60:\n",
    "            #if traveled on weekend and price tier is not equals to 3\n",
    "            if df.dod[i].weekday() in [5,6] and df.price_tier[i] !=3:\n",
    "                count +=1\n",
    "                df.at[i,\"price_tier\"] = 3\n",
    "             #if not traveled on weekend and price tier is not 2\n",
    "            elif df.dod[i].weekday() not in [5,6] and df.price_tier[i] !=2:\n",
    "                count +=1\n",
    "                df.at[i,\"price_tier\"] = 2\n",
    "        else:\n",
    "            if df.price_tier[i] !=2:\n",
    "                count +=1\n",
    "                df.at[i,\"price_tier\"] = 2\n",
    "print(\"Found {} errors\".format(count))"
   ]
  },
  {
   "cell_type": "markdown",
   "id": "7c243e48",
   "metadata": {},
   "source": [
    "#### How about has_loyalty\n",
    "\n",
    "price factors:\n",
    "* different for each airline\n",
    "* If the customer is a member of a loyalty program, the price of the ticket has a 10% discount applied\n",
    "* The interaction between price_tier and distance (i.e. price_tier * distance)\n",
    "* The number of stops/transits during the flight\n",
    "* Whether the traveller is an adult on the day of departure (i.e. 16 years or above)."
   ]
  },
  {
   "cell_type": "code",
   "execution_count": 25,
   "id": "f886ef30",
   "metadata": {},
   "outputs": [],
   "source": [
    "\n",
    "# extract data by airline , create a column for interaction\n",
    "df[\"airline\"] = airline[\"airline\"]\n",
    "df['interaction'] = df[\"distance\"] * df[\"price_tier\"]\n",
    "# linear regression is an equation like y = ax1+bx2+ ....+cxn +c, so discount cant be one of the factor\n",
    "df['origin_price'] = ''\n",
    "for i in range(500):\n",
    "    if df[\"has_loyalty\"][i] == 1:\n",
    "        df.at[i,'origin_price'] =df.price[i] /0.9 \n",
    "    else:\n",
    "        df.at[i,'origin_price'] = df.price[i]\n",
    "Omega= df[df['airline'] =='Omega\\OG']\n",
    "Calisto= df[df['airline'] == 'Calisto\\CS']\n",
    "Adonis = df[df['airline'] == 'Adonis\\AS']\n",
    "# lets train Adonis first, I could set Adonis =1 Omega =2 and Calisto =3 and train them all together \n",
    "#but this results in a lower r-squared\n",
    "X_train, X_test, y_train, y_test = train_test_split(Adonis[['is_adult','num_stops','interaction']],\n",
    "                                                    Adonis.origin_price, random_state = 111)"
   ]
  },
  {
   "cell_type": "code",
   "execution_count": 26,
   "id": "9ad956f5",
   "metadata": {},
   "outputs": [
    {
     "name": "stdout",
     "output_type": "stream",
     "text": [
      "r-squared for this model =  0.9973454947512911\n"
     ]
    }
   ],
   "source": [
    "lr = LinearRegression()\n",
    "lr.fit(X_train,y_train)\n",
    "# I got 0.99, a high R-squared \n",
    "print ('r-squared for this model = ',lr.score(X_test,y_test))"
   ]
  },
  {
   "cell_type": "code",
   "execution_count": 27,
   "id": "a5f4a628",
   "metadata": {},
   "outputs": [
    {
     "name": "stdout",
     "output_type": "stream",
     "text": [
      "value fixed:\n",
      "row: 103 factors: [0, 0, 8220.18] estimated price: 1226.7692167116468 actual price: 804.63 loyalty: 0\n"
     ]
    }
   ],
   "source": [
    "# in Price, the discount is applied already\n",
    "# Therefore, if the predicted price is 10% higher than the price, the has_loyalty should be 1\n",
    "print(\"value fixed:\")\n",
    "for i in Adonis.index:\n",
    "    factor = [Adonis.is_adult[i],Adonis.num_stops[i],Adonis.interaction[i]]\n",
    "    predict= lr.predict([factor])\n",
    "    if ( (predict[0]/Adonis.price[i])-1 >= 0.10) and df.has_loyalty[i] != 1:\n",
    "        row_error.append(i)\n",
    "        print(\"row:\",i,\"factors:\",factor,\"estimated price:\",predict[0],\"actual price:\",\n",
    "              Adonis.price[i],\"loyalty:\",Adonis.has_loyalty[i])\n",
    "        df.at[i,\"has_loyalty\"] = 1"
   ]
  },
  {
   "cell_type": "code",
   "execution_count": 28,
   "id": "a1db4604",
   "metadata": {},
   "outputs": [
    {
     "name": "stdout",
     "output_type": "stream",
     "text": [
      "r-squared for this model =  0.9980777056705425\n"
     ]
    }
   ],
   "source": [
    "#omega:\n",
    "X_train, X_test, y_train, y_test = train_test_split(Omega[['is_adult','num_stops','interaction']],\n",
    "                                                    Omega.origin_price, random_state = 111)\n",
    "lr = LinearRegression()\n",
    "lr.fit(X_train,y_train)\n",
    "# I got 0.99, a high R-squared \n",
    "print ('r-squared for this model = ',lr.score(X_test,y_test))"
   ]
  },
  {
   "cell_type": "code",
   "execution_count": 29,
   "id": "34c02c09",
   "metadata": {},
   "outputs": [
    {
     "name": "stdout",
     "output_type": "stream",
     "text": [
      "value fixed:\n",
      "row: 76 factors: [0, 2, 570.94] estimated price: 252.41801531669472 actual price: 227.28 loyalty: 0\n",
      "row: 289 factors: [1, 2, 21670.74] estimated price: 1600.1175967460451 actual price: 1436.67 loyalty: 0\n",
      "row: 445 factors: [0, 2, 744.7] estimated price: 262.79250218148627 actual price: 232.19 loyalty: 0\n"
     ]
    }
   ],
   "source": [
    "print(\"value fixed:\")\n",
    "for i in Omega.index:\n",
    "    factor = [Omega.is_adult[i],Omega.num_stops[i],Omega.interaction[i]]\n",
    "    predict= lr.predict([factor])\n",
    "    if ( (predict[0]/Omega.price[i])-1 >= 0.10) and df.has_loyalty[i] != 1:\n",
    "        row_error.append(i)\n",
    "        print(\"row:\",i,\"factors:\",factor,\"estimated price:\",predict[0],\"actual price:\",\n",
    "              Omega.price[i],\"loyalty:\",Omega.has_loyalty[i])\n",
    "        df.at[i,\"has_loyalty\"] = 1"
   ]
  },
  {
   "cell_type": "code",
   "execution_count": 30,
   "id": "6a7d983d",
   "metadata": {},
   "outputs": [
    {
     "name": "stdout",
     "output_type": "stream",
     "text": [
      "r-squared for this model =  0.9992125212196852\n"
     ]
    }
   ],
   "source": [
    "#Calisto:\n",
    "X_train, X_test, y_train, y_test = train_test_split(Calisto[['is_adult','num_stops','interaction']],\n",
    "                                                    Calisto.origin_price, random_state = 111)\n",
    "lr = LinearRegression()\n",
    "lr.fit(X_train,y_train)\n",
    "# I got around 0.99, a high R-squared \n",
    "print ('r-squared for this model = ',lr.score(X_test,y_test))"
   ]
  },
  {
   "cell_type": "code",
   "execution_count": 31,
   "id": "ff1b7576",
   "metadata": {},
   "outputs": [
    {
     "name": "stdout",
     "output_type": "stream",
     "text": [
      "value fixed:\n",
      "row: 341 factors: [1, 1, 7585.27] estimated price: 1027.6886299512678 actual price: 924.13 loyalty: 0\n",
      "row: 449 factors: [0, 1, 2876.64] estimated price: 536.8160868889079 actual price: 480.13 loyalty: 0\n"
     ]
    }
   ],
   "source": [
    "print(\"value fixed:\")\n",
    "for i in Calisto.index:\n",
    "    factor = [Calisto.is_adult[i],Calisto.num_stops[i],Calisto.interaction[i]]\n",
    "    predict= lr.predict([factor])\n",
    "    if ( (predict[0]/Calisto.price[i])-1 >= 0.10) and df.has_loyalty[i] != 1:\n",
    "        row_error.append(i)\n",
    "        print(\"row:\",i,\"factors:\",factor,\"estimated price:\",predict[0],\"actual price:\",Calisto.price[i],\n",
    "              \"loyalty:\",Calisto.has_loyalty[i])\n",
    "        df.at[i,\"has_loyalty\"] = 1"
   ]
  },
  {
   "cell_type": "code",
   "execution_count": 32,
   "id": "fc486a44",
   "metadata": {},
   "outputs": [
    {
     "data": {
      "text/html": [
       "<div>\n",
       "<style scoped>\n",
       "    .dataframe tbody tr th:only-of-type {\n",
       "        vertical-align: middle;\n",
       "    }\n",
       "\n",
       "    .dataframe tbody tr th {\n",
       "        vertical-align: top;\n",
       "    }\n",
       "\n",
       "    .dataframe thead th {\n",
       "        text-align: right;\n",
       "    }\n",
       "</style>\n",
       "<table border=\"1\" class=\"dataframe\">\n",
       "  <thead>\n",
       "    <tr style=\"text-align: right;\">\n",
       "      <th></th>\n",
       "      <th>ticket_id</th>\n",
       "      <th>airline_flight</th>\n",
       "      <th>name</th>\n",
       "      <th>gender</th>\n",
       "      <th>dob</th>\n",
       "      <th>dop</th>\n",
       "      <th>dod</th>\n",
       "      <th>is_adult</th>\n",
       "      <th>from</th>\n",
       "      <th>to</th>\n",
       "      <th>distance</th>\n",
       "      <th>num_stops</th>\n",
       "      <th>has_loyalty</th>\n",
       "      <th>price_tier</th>\n",
       "      <th>price</th>\n",
       "    </tr>\n",
       "  </thead>\n",
       "  <tbody>\n",
       "    <tr>\n",
       "      <th>0</th>\n",
       "      <td>IDXX93513</td>\n",
       "      <td>Adonis\\AS-998</td>\n",
       "      <td>Ms. Johnna Johnson</td>\n",
       "      <td>F</td>\n",
       "      <td>2001-12-06</td>\n",
       "      <td>2021-05-24</td>\n",
       "      <td>2021-06-08</td>\n",
       "      <td>1</td>\n",
       "      <td>Croatia</td>\n",
       "      <td>Bulgaria</td>\n",
       "      <td>865.10</td>\n",
       "      <td>1</td>\n",
       "      <td>1</td>\n",
       "      <td>2</td>\n",
       "      <td>513.15</td>\n",
       "    </tr>\n",
       "    <tr>\n",
       "      <th>1</th>\n",
       "      <td>IDYY64279</td>\n",
       "      <td>Calisto\\CS-120</td>\n",
       "      <td>Mr. Mark Ludeker</td>\n",
       "      <td>M</td>\n",
       "      <td>1986-02-11</td>\n",
       "      <td>2021-10-23</td>\n",
       "      <td>2022-09-18</td>\n",
       "      <td>1</td>\n",
       "      <td>Mongolia</td>\n",
       "      <td>Suriname</td>\n",
       "      <td>14048.36</td>\n",
       "      <td>1</td>\n",
       "      <td>0</td>\n",
       "      <td>2</td>\n",
       "      <td>2666.03</td>\n",
       "    </tr>\n",
       "    <tr>\n",
       "      <th>2</th>\n",
       "      <td>IDYY04574</td>\n",
       "      <td>Calisto\\CS-368</td>\n",
       "      <td>Mr. Wayne Ruiz</td>\n",
       "      <td>M</td>\n",
       "      <td>2018-01-14</td>\n",
       "      <td>2021-02-23</td>\n",
       "      <td>2022-02-18</td>\n",
       "      <td>0</td>\n",
       "      <td>Burundi</td>\n",
       "      <td>Montenegro</td>\n",
       "      <td>5238.48</td>\n",
       "      <td>2</td>\n",
       "      <td>1</td>\n",
       "      <td>1</td>\n",
       "      <td>549.77</td>\n",
       "    </tr>\n",
       "    <tr>\n",
       "      <th>3</th>\n",
       "      <td>IDZZ04847</td>\n",
       "      <td>Omega\\OG-052</td>\n",
       "      <td>Mr. Anthony Rader</td>\n",
       "      <td>M</td>\n",
       "      <td>2017-06-20</td>\n",
       "      <td>2021-01-30</td>\n",
       "      <td>2021-07-07</td>\n",
       "      <td>0</td>\n",
       "      <td>Panama</td>\n",
       "      <td>Jordan</td>\n",
       "      <td>12037.08</td>\n",
       "      <td>2</td>\n",
       "      <td>1</td>\n",
       "      <td>2</td>\n",
       "      <td>1469.49</td>\n",
       "    </tr>\n",
       "    <tr>\n",
       "      <th>4</th>\n",
       "      <td>IDXX97459</td>\n",
       "      <td>Adonis\\AS-873</td>\n",
       "      <td>Ms. Kimberly Davis</td>\n",
       "      <td>F</td>\n",
       "      <td>1990-12-04</td>\n",
       "      <td>2021-03-06</td>\n",
       "      <td>2021-05-02</td>\n",
       "      <td>1</td>\n",
       "      <td>Belarus</td>\n",
       "      <td>Australia</td>\n",
       "      <td>13285.10</td>\n",
       "      <td>2</td>\n",
       "      <td>0</td>\n",
       "      <td>3</td>\n",
       "      <td>4277.56</td>\n",
       "    </tr>\n",
       "  </tbody>\n",
       "</table>\n",
       "</div>"
      ],
      "text/plain": [
       "   ticket_id  airline_flight                name gender        dob        dop  \\\n",
       "0  IDXX93513   Adonis\\AS-998  Ms. Johnna Johnson      F 2001-12-06 2021-05-24   \n",
       "1  IDYY64279  Calisto\\CS-120    Mr. Mark Ludeker      M 1986-02-11 2021-10-23   \n",
       "2  IDYY04574  Calisto\\CS-368      Mr. Wayne Ruiz      M 2018-01-14 2021-02-23   \n",
       "3  IDZZ04847    Omega\\OG-052   Mr. Anthony Rader      M 2017-06-20 2021-01-30   \n",
       "4  IDXX97459   Adonis\\AS-873  Ms. Kimberly Davis      F 1990-12-04 2021-03-06   \n",
       "\n",
       "         dod  is_adult      from          to  distance  num_stops  \\\n",
       "0 2021-06-08         1   Croatia    Bulgaria    865.10          1   \n",
       "1 2022-09-18         1  Mongolia    Suriname  14048.36          1   \n",
       "2 2022-02-18         0   Burundi  Montenegro   5238.48          2   \n",
       "3 2021-07-07         0    Panama      Jordan  12037.08          2   \n",
       "4 2021-05-02         1   Belarus   Australia  13285.10          2   \n",
       "\n",
       "   has_loyalty  price_tier    price  \n",
       "0            1           2   513.15  \n",
       "1            0           2  2666.03  \n",
       "2            1           1   549.77  \n",
       "3            1           2  1469.49  \n",
       "4            0           3  4277.56  "
      ]
     },
     "execution_count": 32,
     "metadata": {},
     "output_type": "execute_result"
    }
   ],
   "source": [
    "df.drop('interaction', inplace=True, axis=1)\n",
    "df.drop('origin_price', inplace=True, axis=1)\n",
    "df.drop('airline', inplace=True, axis=1)\n",
    "df.head(5)"
   ]
  },
  {
   "cell_type": "markdown",
   "id": "5ea6b560",
   "metadata": {},
   "source": [
    "#### at this point, part 1 is finished"
   ]
  },
  {
   "cell_type": "code",
   "execution_count": 33,
   "id": "cdeada8d",
   "metadata": {},
   "outputs": [],
   "source": [
    "#output\n",
    "df.to_csv('32073119_dirty_solution.csv')"
   ]
  },
  {
   "cell_type": "markdown",
   "id": "00caa34d",
   "metadata": {},
   "source": [
    "## Part2 : Detect and remove outlier rows in outlier.csv <a class=\"anchor\" id=\"2.0\"></a>\n",
    "\n",
    "* outliers are to be found w.r.t. price attribute\n",
    "* There are no data anomalies in the file outlier.csv except for outliers\n",
    "\n",
    "2.1 **Load and Print data set**"
   ]
  },
  {
   "cell_type": "code",
   "execution_count": 34,
   "id": "1f5f2888",
   "metadata": {},
   "outputs": [
    {
     "data": {
      "text/html": [
       "<div>\n",
       "<style scoped>\n",
       "    .dataframe tbody tr th:only-of-type {\n",
       "        vertical-align: middle;\n",
       "    }\n",
       "\n",
       "    .dataframe tbody tr th {\n",
       "        vertical-align: top;\n",
       "    }\n",
       "\n",
       "    .dataframe thead th {\n",
       "        text-align: right;\n",
       "    }\n",
       "</style>\n",
       "<table border=\"1\" class=\"dataframe\">\n",
       "  <thead>\n",
       "    <tr style=\"text-align: right;\">\n",
       "      <th></th>\n",
       "      <th>ticket_id</th>\n",
       "      <th>airline_flight</th>\n",
       "      <th>name</th>\n",
       "      <th>gender</th>\n",
       "      <th>dob</th>\n",
       "      <th>dop</th>\n",
       "      <th>dod</th>\n",
       "      <th>is_adult</th>\n",
       "      <th>from</th>\n",
       "      <th>to</th>\n",
       "      <th>distance</th>\n",
       "      <th>num_stops</th>\n",
       "      <th>has_loyalty</th>\n",
       "      <th>price_tier</th>\n",
       "      <th>price</th>\n",
       "    </tr>\n",
       "  </thead>\n",
       "  <tbody>\n",
       "    <tr>\n",
       "      <th>0</th>\n",
       "      <td>IDYY07721</td>\n",
       "      <td>Calisto\\CS-179</td>\n",
       "      <td>Mr. Todd Alonso</td>\n",
       "      <td>M</td>\n",
       "      <td>1985-05-03</td>\n",
       "      <td>2021-06-23</td>\n",
       "      <td>2022-04-19</td>\n",
       "      <td>1</td>\n",
       "      <td>Armenia</td>\n",
       "      <td>United Kingdom</td>\n",
       "      <td>3909.20</td>\n",
       "      <td>2</td>\n",
       "      <td>1</td>\n",
       "      <td>1</td>\n",
       "      <td>552.36</td>\n",
       "    </tr>\n",
       "    <tr>\n",
       "      <th>1</th>\n",
       "      <td>IDXX24961</td>\n",
       "      <td>Adonis\\AS-428</td>\n",
       "      <td>Mr. John Dunaway</td>\n",
       "      <td>M</td>\n",
       "      <td>1998-06-20</td>\n",
       "      <td>2021-05-30</td>\n",
       "      <td>2022-05-23</td>\n",
       "      <td>1</td>\n",
       "      <td>Qatar</td>\n",
       "      <td>Guinea-Bissau</td>\n",
       "      <td>7096.83</td>\n",
       "      <td>1</td>\n",
       "      <td>0</td>\n",
       "      <td>1</td>\n",
       "      <td>1117.48</td>\n",
       "    </tr>\n",
       "    <tr>\n",
       "      <th>2</th>\n",
       "      <td>IDYY44622</td>\n",
       "      <td>Calisto\\CS-803</td>\n",
       "      <td>Ms. Christina Mcnally</td>\n",
       "      <td>F</td>\n",
       "      <td>1995-07-07</td>\n",
       "      <td>2021-01-21</td>\n",
       "      <td>2021-08-03</td>\n",
       "      <td>1</td>\n",
       "      <td>New Zealand</td>\n",
       "      <td>Dominica</td>\n",
       "      <td>13955.27</td>\n",
       "      <td>1</td>\n",
       "      <td>0</td>\n",
       "      <td>1</td>\n",
       "      <td>1536.30</td>\n",
       "    </tr>\n",
       "    <tr>\n",
       "      <th>3</th>\n",
       "      <td>IDXX59704</td>\n",
       "      <td>Adonis\\AS-157</td>\n",
       "      <td>Mr. Raymond Given</td>\n",
       "      <td>M</td>\n",
       "      <td>1994-06-07</td>\n",
       "      <td>2021-04-10</td>\n",
       "      <td>2022-04-02</td>\n",
       "      <td>1</td>\n",
       "      <td>Moldova</td>\n",
       "      <td>Cook Islands</td>\n",
       "      <td>17032.62</td>\n",
       "      <td>2</td>\n",
       "      <td>0</td>\n",
       "      <td>2</td>\n",
       "      <td>3700.15</td>\n",
       "    </tr>\n",
       "    <tr>\n",
       "      <th>4</th>\n",
       "      <td>IDZZ19210</td>\n",
       "      <td>Omega\\OG-345</td>\n",
       "      <td>Ms. Mildred Boulos</td>\n",
       "      <td>F</td>\n",
       "      <td>2003-04-10</td>\n",
       "      <td>2021-03-08</td>\n",
       "      <td>2021-06-17</td>\n",
       "      <td>1</td>\n",
       "      <td>Ecuador</td>\n",
       "      <td>Eritrea</td>\n",
       "      <td>13072.36</td>\n",
       "      <td>1</td>\n",
       "      <td>0</td>\n",
       "      <td>2</td>\n",
       "      <td>1981.32</td>\n",
       "    </tr>\n",
       "    <tr>\n",
       "      <th>5</th>\n",
       "      <td>IDXX55780</td>\n",
       "      <td>Adonis\\AS-960</td>\n",
       "      <td>Ms. Gloria Frisbee</td>\n",
       "      <td>F</td>\n",
       "      <td>1990-05-09</td>\n",
       "      <td>2021-12-22</td>\n",
       "      <td>2022-08-02</td>\n",
       "      <td>1</td>\n",
       "      <td>Togo</td>\n",
       "      <td>Pakistan</td>\n",
       "      <td>7476.30</td>\n",
       "      <td>0</td>\n",
       "      <td>1</td>\n",
       "      <td>1</td>\n",
       "      <td>1126.28</td>\n",
       "    </tr>\n",
       "    <tr>\n",
       "      <th>6</th>\n",
       "      <td>IDXX50432</td>\n",
       "      <td>Adonis\\AS-413</td>\n",
       "      <td>Ms. Nancy Atkin</td>\n",
       "      <td>F</td>\n",
       "      <td>1983-04-17</td>\n",
       "      <td>2021-11-09</td>\n",
       "      <td>2022-04-27</td>\n",
       "      <td>1</td>\n",
       "      <td>Austria</td>\n",
       "      <td>Georgia</td>\n",
       "      <td>2328.74</td>\n",
       "      <td>2</td>\n",
       "      <td>1</td>\n",
       "      <td>2</td>\n",
       "      <td>691.76</td>\n",
       "    </tr>\n",
       "    <tr>\n",
       "      <th>7</th>\n",
       "      <td>IDXX61315</td>\n",
       "      <td>Adonis\\AS-771</td>\n",
       "      <td>Mr. William Pollock</td>\n",
       "      <td>M</td>\n",
       "      <td>2008-10-31</td>\n",
       "      <td>2021-06-20</td>\n",
       "      <td>2021-11-30</td>\n",
       "      <td>0</td>\n",
       "      <td>Maldives</td>\n",
       "      <td>Nicaragua</td>\n",
       "      <td>17056.16</td>\n",
       "      <td>2</td>\n",
       "      <td>1</td>\n",
       "      <td>2</td>\n",
       "      <td>3246.21</td>\n",
       "    </tr>\n",
       "    <tr>\n",
       "      <th>8</th>\n",
       "      <td>IDZZ49599</td>\n",
       "      <td>Omega\\OG-623</td>\n",
       "      <td>Mr. Craig Carter</td>\n",
       "      <td>M</td>\n",
       "      <td>1988-12-19</td>\n",
       "      <td>2021-11-03</td>\n",
       "      <td>2022-01-26</td>\n",
       "      <td>1</td>\n",
       "      <td>Chile</td>\n",
       "      <td>Tunisia</td>\n",
       "      <td>11437.22</td>\n",
       "      <td>1</td>\n",
       "      <td>1</td>\n",
       "      <td>2</td>\n",
       "      <td>1605.57</td>\n",
       "    </tr>\n",
       "    <tr>\n",
       "      <th>9</th>\n",
       "      <td>IDXX73762</td>\n",
       "      <td>Adonis\\AS-801</td>\n",
       "      <td>Mr. James Waters</td>\n",
       "      <td>M</td>\n",
       "      <td>2008-02-06</td>\n",
       "      <td>2021-03-28</td>\n",
       "      <td>2021-10-02</td>\n",
       "      <td>0</td>\n",
       "      <td>Tuvalu</td>\n",
       "      <td>Serbia</td>\n",
       "      <td>15342.64</td>\n",
       "      <td>2</td>\n",
       "      <td>0</td>\n",
       "      <td>2</td>\n",
       "      <td>3278.88</td>\n",
       "    </tr>\n",
       "  </tbody>\n",
       "</table>\n",
       "</div>"
      ],
      "text/plain": [
       "   ticket_id  airline_flight                   name gender         dob  \\\n",
       "0  IDYY07721  Calisto\\CS-179        Mr. Todd Alonso      M  1985-05-03   \n",
       "1  IDXX24961   Adonis\\AS-428       Mr. John Dunaway      M  1998-06-20   \n",
       "2  IDYY44622  Calisto\\CS-803  Ms. Christina Mcnally      F  1995-07-07   \n",
       "3  IDXX59704   Adonis\\AS-157      Mr. Raymond Given      M  1994-06-07   \n",
       "4  IDZZ19210    Omega\\OG-345     Ms. Mildred Boulos      F  2003-04-10   \n",
       "5  IDXX55780   Adonis\\AS-960     Ms. Gloria Frisbee      F  1990-05-09   \n",
       "6  IDXX50432   Adonis\\AS-413        Ms. Nancy Atkin      F  1983-04-17   \n",
       "7  IDXX61315   Adonis\\AS-771    Mr. William Pollock      M  2008-10-31   \n",
       "8  IDZZ49599    Omega\\OG-623       Mr. Craig Carter      M  1988-12-19   \n",
       "9  IDXX73762   Adonis\\AS-801       Mr. James Waters      M  2008-02-06   \n",
       "\n",
       "          dop         dod  is_adult         from              to  distance  \\\n",
       "0  2021-06-23  2022-04-19         1      Armenia  United Kingdom   3909.20   \n",
       "1  2021-05-30  2022-05-23         1        Qatar   Guinea-Bissau   7096.83   \n",
       "2  2021-01-21  2021-08-03         1  New Zealand        Dominica  13955.27   \n",
       "3  2021-04-10  2022-04-02         1      Moldova    Cook Islands  17032.62   \n",
       "4  2021-03-08  2021-06-17         1      Ecuador         Eritrea  13072.36   \n",
       "5  2021-12-22  2022-08-02         1         Togo        Pakistan   7476.30   \n",
       "6  2021-11-09  2022-04-27         1      Austria         Georgia   2328.74   \n",
       "7  2021-06-20  2021-11-30         0     Maldives       Nicaragua  17056.16   \n",
       "8  2021-11-03  2022-01-26         1        Chile         Tunisia  11437.22   \n",
       "9  2021-03-28  2021-10-02         0       Tuvalu          Serbia  15342.64   \n",
       "\n",
       "   num_stops  has_loyalty  price_tier    price  \n",
       "0          2            1           1   552.36  \n",
       "1          1            0           1  1117.48  \n",
       "2          1            0           1  1536.30  \n",
       "3          2            0           2  3700.15  \n",
       "4          1            0           2  1981.32  \n",
       "5          0            1           1  1126.28  \n",
       "6          2            1           2   691.76  \n",
       "7          2            1           2  3246.21  \n",
       "8          1            1           2  1605.57  \n",
       "9          2            0           2  3278.88  "
      ]
     },
     "execution_count": 34,
     "metadata": {},
     "output_type": "execute_result"
    }
   ],
   "source": [
    "# load the data to df_outlier from current working directory\n",
    "df_outlier = pd.read_csv(\"32073119_outlier.csv\")\n",
    "#print first 10 rows\n",
    "df_outlier.head(10)"
   ]
  },
  {
   "cell_type": "markdown",
   "id": "08fa1f64",
   "metadata": {},
   "source": [
    "2.2 **Find Outliers and Remove Row**\n",
    "\n",
    "Given outliers are only present in the price column and no other anomalies"
   ]
  },
  {
   "cell_type": "code",
   "execution_count": 35,
   "id": "b3d44ca2",
   "metadata": {},
   "outputs": [
    {
     "name": "stdout",
     "output_type": "stream",
     "text": [
      "<class 'pandas.core.frame.DataFrame'>\n",
      "RangeIndex: 500 entries, 0 to 499\n",
      "Data columns (total 15 columns):\n",
      " #   Column          Non-Null Count  Dtype  \n",
      "---  ------          --------------  -----  \n",
      " 0   ticket_id       500 non-null    object \n",
      " 1   airline_flight  500 non-null    object \n",
      " 2   name            500 non-null    object \n",
      " 3   gender          500 non-null    object \n",
      " 4   dob             500 non-null    object \n",
      " 5   dop             500 non-null    object \n",
      " 6   dod             500 non-null    object \n",
      " 7   is_adult        500 non-null    int64  \n",
      " 8   from            500 non-null    object \n",
      " 9   to              500 non-null    object \n",
      " 10  distance        500 non-null    float64\n",
      " 11  num_stops       500 non-null    int64  \n",
      " 12  has_loyalty     500 non-null    int64  \n",
      " 13  price_tier      500 non-null    int64  \n",
      " 14  price           500 non-null    float64\n",
      "dtypes: float64(2), int64(4), object(9)\n",
      "memory usage: 58.7+ KB\n"
     ]
    }
   ],
   "source": [
    "df_outlier.info()"
   ]
  },
  {
   "cell_type": "markdown",
   "id": "ac376e85",
   "metadata": {},
   "source": [
    "We have 500 rows"
   ]
  },
  {
   "cell_type": "code",
   "execution_count": 36,
   "id": "413fc3d8",
   "metadata": {},
   "outputs": [
    {
     "data": {
      "image/png": "[encoded data removed]",
      "text/plain": [
       "<Figure size 432x288 with 1 Axes>"
      ]
     },
     "metadata": {
      "needs_background": "light"
     },
     "output_type": "display_data"
    }
   ],
   "source": [
    "bp = plt.boxplot(df_outlier.price, 0, 'ro') "
   ]
  },
  {
   "cell_type": "markdown",
   "id": "ff95a27f",
   "metadata": {},
   "source": [
    "Those red points are outliers, I am going to use **1.5 IQR rule** to filter them \n"
   ]
  },
  {
   "cell_type": "code",
   "execution_count": 37,
   "id": "c4e2b892",
   "metadata": {},
   "outputs": [
    {
     "name": "stdout",
     "output_type": "stream",
     "text": [
      "25% percentiles : 868.715    75% percentiles : 1793.2549999999999\n"
     ]
    }
   ],
   "source": [
    "#sort price in an increasing order\n",
    "df_outlier.sort_values('price')\n",
    "#acquire 25% and 75% quantile\n",
    "q1, q3= np.percentile(df_outlier['price'],[25,75])\n",
    "print(\"25% percentiles :\",q1,\"   75% percentiles :\",q3)"
   ]
  },
  {
   "cell_type": "code",
   "execution_count": 38,
   "id": "48b9a124",
   "metadata": {},
   "outputs": [
    {
     "name": "stdout",
     "output_type": "stream",
     "text": [
      "interquartile range is: 924.5399999999998\n"
     ]
    }
   ],
   "source": [
    "#now we can find the IQR, which is q3 - q1\n",
    "iqr = q3-q1\n",
    "print(\"interquartile range is:\", iqr)"
   ]
  },
  {
   "cell_type": "code",
   "execution_count": 39,
   "id": "a95c724c",
   "metadata": {},
   "outputs": [
    {
     "name": "stdout",
     "output_type": "stream",
     "text": [
      "lower bound value is: -518.0949999999997   upper bound value is: 3180.0649999999996\n",
      "according to the boxplot, there are no negative values, so any value that is greater than upper bound is an outlier\n"
     ]
    }
   ],
   "source": [
    "#then higher bound and lower bound values\n",
    "lower = q1 -(1.5 * iqr) \n",
    "upper = q3 +(1.5 * iqr) \n",
    "print('lower bound value is:', lower,'  upper bound value is:',upper)\n",
    "print(\"according to the boxplot, there are no negative values, so any value that is greater than upper bound is an outlier\")"
   ]
  },
  {
   "cell_type": "code",
   "execution_count": 40,
   "id": "de4f5d06",
   "metadata": {},
   "outputs": [
    {
     "name": "stdout",
     "output_type": "stream",
     "text": [
      "There are 19 outliers\n"
     ]
    }
   ],
   "source": [
    "remove_list = []\n",
    "for i in range(500):\n",
    "    if df_outlier.price[i] > upper:\n",
    "        remove_list.append(i)\n",
    "df_outlier.drop(df_outlier.index[remove_list],inplace=True)\n",
    "print('There are {} outliers'.format(len(remove_list)))\n"
   ]
  },
  {
   "cell_type": "code",
   "execution_count": 41,
   "id": "0cfafa99",
   "metadata": {},
   "outputs": [],
   "source": [
    "#output\n",
    "df_outlier.reset_index(drop=True, inplace=True)\n",
    "df_outlier.to_csv('32073119_outlier_solution.csv')\n"
   ]
  },
  {
   "cell_type": "markdown",
   "id": "17c52726",
   "metadata": {},
   "source": [
    "## Part3: Impute the missing values in missing.csv  <a class=\"anchor\" id=\"3.0\"></a>\n",
    "\n",
    "* There are no data anomalies in missing.csv except for missing data."
   ]
  },
  {
   "cell_type": "code",
   "execution_count": 42,
   "id": "56bada08",
   "metadata": {},
   "outputs": [
    {
     "data": {
      "text/html": [
       "<div>\n",
       "<style scoped>\n",
       "    .dataframe tbody tr th:only-of-type {\n",
       "        vertical-align: middle;\n",
       "    }\n",
       "\n",
       "    .dataframe tbody tr th {\n",
       "        vertical-align: top;\n",
       "    }\n",
       "\n",
       "    .dataframe thead th {\n",
       "        text-align: right;\n",
       "    }\n",
       "</style>\n",
       "<table border=\"1\" class=\"dataframe\">\n",
       "  <thead>\n",
       "    <tr style=\"text-align: right;\">\n",
       "      <th></th>\n",
       "      <th>ticket_id</th>\n",
       "      <th>airline_flight</th>\n",
       "      <th>name</th>\n",
       "      <th>gender</th>\n",
       "      <th>dob</th>\n",
       "      <th>dop</th>\n",
       "      <th>dod</th>\n",
       "      <th>is_adult</th>\n",
       "      <th>from</th>\n",
       "      <th>to</th>\n",
       "      <th>distance</th>\n",
       "      <th>num_stops</th>\n",
       "      <th>has_loyalty</th>\n",
       "      <th>price_tier</th>\n",
       "      <th>price</th>\n",
       "    </tr>\n",
       "  </thead>\n",
       "  <tbody>\n",
       "    <tr>\n",
       "      <th>0</th>\n",
       "      <td>IDZZ87758</td>\n",
       "      <td>Omega\\OG-289</td>\n",
       "      <td>Mr. Patrick Morris</td>\n",
       "      <td>M</td>\n",
       "      <td>2021-02-17</td>\n",
       "      <td>2021-01-08</td>\n",
       "      <td>2021-12-14</td>\n",
       "      <td>0</td>\n",
       "      <td>Cape Verde</td>\n",
       "      <td>Macedonia [FYROM]</td>\n",
       "      <td>5210.04</td>\n",
       "      <td>1</td>\n",
       "      <td>1</td>\n",
       "      <td>1</td>\n",
       "      <td>NaN</td>\n",
       "    </tr>\n",
       "    <tr>\n",
       "      <th>1</th>\n",
       "      <td>IDZZ94121</td>\n",
       "      <td>Omega\\OG-438</td>\n",
       "      <td>Ms. Sophia Maggard</td>\n",
       "      <td>F</td>\n",
       "      <td>1986-09-22</td>\n",
       "      <td>2021-04-20</td>\n",
       "      <td>2021-08-15</td>\n",
       "      <td>1</td>\n",
       "      <td>Cocos [Keeling] Islands</td>\n",
       "      <td>Niue</td>\n",
       "      <td>9915.10</td>\n",
       "      <td>0</td>\n",
       "      <td>1</td>\n",
       "      <td>2</td>\n",
       "      <td>NaN</td>\n",
       "    </tr>\n",
       "    <tr>\n",
       "      <th>2</th>\n",
       "      <td>IDZZ04099</td>\n",
       "      <td>Omega\\OG-164</td>\n",
       "      <td>Ms. Grace Ziegler</td>\n",
       "      <td>F</td>\n",
       "      <td>1990-12-01</td>\n",
       "      <td>2021-12-09</td>\n",
       "      <td>2022-09-08</td>\n",
       "      <td>1</td>\n",
       "      <td>Angola</td>\n",
       "      <td>Montserrat</td>\n",
       "      <td>9340.15</td>\n",
       "      <td>1</td>\n",
       "      <td>0</td>\n",
       "      <td>1</td>\n",
       "      <td>NaN</td>\n",
       "    </tr>\n",
       "    <tr>\n",
       "      <th>3</th>\n",
       "      <td>IDZZ36820</td>\n",
       "      <td>Omega\\OG-547</td>\n",
       "      <td>Ms. Krista Jones</td>\n",
       "      <td>F</td>\n",
       "      <td>1989-01-01</td>\n",
       "      <td>2021-07-23</td>\n",
       "      <td>2022-01-23</td>\n",
       "      <td>1</td>\n",
       "      <td>Liechtenstein</td>\n",
       "      <td>Liberia</td>\n",
       "      <td>4883.13</td>\n",
       "      <td>2</td>\n",
       "      <td>0</td>\n",
       "      <td>2</td>\n",
       "      <td>890.57</td>\n",
       "    </tr>\n",
       "    <tr>\n",
       "      <th>4</th>\n",
       "      <td>IDYY84689</td>\n",
       "      <td>Calisto\\CS-469</td>\n",
       "      <td>Mr. Peter Medley</td>\n",
       "      <td>M</td>\n",
       "      <td>2003-10-12</td>\n",
       "      <td>2021-10-12</td>\n",
       "      <td>2022-07-27</td>\n",
       "      <td>1</td>\n",
       "      <td>Trinidad and Tobago</td>\n",
       "      <td>Ghana</td>\n",
       "      <td>6610.20</td>\n",
       "      <td>1</td>\n",
       "      <td>1</td>\n",
       "      <td>1</td>\n",
       "      <td>NaN</td>\n",
       "    </tr>\n",
       "  </tbody>\n",
       "</table>\n",
       "</div>"
      ],
      "text/plain": [
       "   ticket_id  airline_flight                name gender         dob  \\\n",
       "0  IDZZ87758    Omega\\OG-289  Mr. Patrick Morris      M  2021-02-17   \n",
       "1  IDZZ94121    Omega\\OG-438  Ms. Sophia Maggard      F  1986-09-22   \n",
       "2  IDZZ04099    Omega\\OG-164   Ms. Grace Ziegler      F  1990-12-01   \n",
       "3  IDZZ36820    Omega\\OG-547    Ms. Krista Jones      F  1989-01-01   \n",
       "4  IDYY84689  Calisto\\CS-469    Mr. Peter Medley      M  2003-10-12   \n",
       "\n",
       "          dop         dod  is_adult                     from  \\\n",
       "0  2021-01-08  2021-12-14         0               Cape Verde   \n",
       "1  2021-04-20  2021-08-15         1  Cocos [Keeling] Islands   \n",
       "2  2021-12-09  2022-09-08         1                   Angola   \n",
       "3  2021-07-23  2022-01-23         1            Liechtenstein   \n",
       "4  2021-10-12  2022-07-27         1      Trinidad and Tobago   \n",
       "\n",
       "                  to  distance  num_stops  has_loyalty  price_tier   price  \n",
       "0  Macedonia [FYROM]   5210.04          1            1           1     NaN  \n",
       "1               Niue   9915.10          0            1           2     NaN  \n",
       "2         Montserrat   9340.15          1            0           1     NaN  \n",
       "3            Liberia   4883.13          2            0           2  890.57  \n",
       "4              Ghana   6610.20          1            1           1     NaN  "
      ]
     },
     "execution_count": 42,
     "metadata": {},
     "output_type": "execute_result"
    }
   ],
   "source": [
    "#load data from current working directory \n",
    "df_missing = pd.read_csv(\"32073119_missing.csv\")\n",
    "df_missing.head(5)"
   ]
  },
  {
   "cell_type": "code",
   "execution_count": 43,
   "id": "7dfe020f",
   "metadata": {},
   "outputs": [
    {
     "name": "stdout",
     "output_type": "stream",
     "text": [
      "<class 'pandas.core.frame.DataFrame'>\n",
      "RangeIndex: 500 entries, 0 to 499\n",
      "Data columns (total 15 columns):\n",
      " #   Column          Non-Null Count  Dtype  \n",
      "---  ------          --------------  -----  \n",
      " 0   ticket_id       500 non-null    object \n",
      " 1   airline_flight  500 non-null    object \n",
      " 2   name            500 non-null    object \n",
      " 3   gender          500 non-null    object \n",
      " 4   dob             500 non-null    object \n",
      " 5   dop             500 non-null    object \n",
      " 6   dod             500 non-null    object \n",
      " 7   is_adult        500 non-null    int64  \n",
      " 8   from            500 non-null    object \n",
      " 9   to              500 non-null    object \n",
      " 10  distance        500 non-null    float64\n",
      " 11  num_stops       500 non-null    int64  \n",
      " 12  has_loyalty     500 non-null    int64  \n",
      " 13  price_tier      500 non-null    int64  \n",
      " 14  price           350 non-null    float64\n",
      "dtypes: float64(2), int64(4), object(9)\n",
      "memory usage: 58.7+ KB\n"
     ]
    }
   ],
   "source": [
    "df_missing.info()"
   ]
  },
  {
   "cell_type": "markdown",
   "id": "2d341d40",
   "metadata": {},
   "source": [
    "According to the table, this is a 500 X 14 dataframe and there are 150 missing values in price column"
   ]
  },
  {
   "cell_type": "code",
   "execution_count": 44,
   "id": "4f4db1a1",
   "metadata": {},
   "outputs": [
    {
     "data": {
      "text/html": [
       "<div>\n",
       "<style scoped>\n",
       "    .dataframe tbody tr th:only-of-type {\n",
       "        vertical-align: middle;\n",
       "    }\n",
       "\n",
       "    .dataframe tbody tr th {\n",
       "        vertical-align: top;\n",
       "    }\n",
       "\n",
       "    .dataframe thead th {\n",
       "        text-align: right;\n",
       "    }\n",
       "</style>\n",
       "<table border=\"1\" class=\"dataframe\">\n",
       "  <thead>\n",
       "    <tr style=\"text-align: right;\">\n",
       "      <th></th>\n",
       "      <th>is_adult</th>\n",
       "      <th>distance</th>\n",
       "      <th>num_stops</th>\n",
       "      <th>has_loyalty</th>\n",
       "      <th>price_tier</th>\n",
       "      <th>price</th>\n",
       "    </tr>\n",
       "  </thead>\n",
       "  <tbody>\n",
       "    <tr>\n",
       "      <th>count</th>\n",
       "      <td>500.000000</td>\n",
       "      <td>500.000000</td>\n",
       "      <td>500.000000</td>\n",
       "      <td>500.000000</td>\n",
       "      <td>500.000000</td>\n",
       "      <td>350.000000</td>\n",
       "    </tr>\n",
       "    <tr>\n",
       "      <th>mean</th>\n",
       "      <td>0.620000</td>\n",
       "      <td>8115.625640</td>\n",
       "      <td>1.214000</td>\n",
       "      <td>0.528000</td>\n",
       "      <td>1.652000</td>\n",
       "      <td>1292.314600</td>\n",
       "    </tr>\n",
       "    <tr>\n",
       "      <th>std</th>\n",
       "      <td>0.485873</td>\n",
       "      <td>4500.306602</td>\n",
       "      <td>0.762474</td>\n",
       "      <td>0.499715</td>\n",
       "      <td>0.532412</td>\n",
       "      <td>662.526387</td>\n",
       "    </tr>\n",
       "    <tr>\n",
       "      <th>min</th>\n",
       "      <td>0.000000</td>\n",
       "      <td>353.270000</td>\n",
       "      <td>0.000000</td>\n",
       "      <td>0.000000</td>\n",
       "      <td>1.000000</td>\n",
       "      <td>243.220000</td>\n",
       "    </tr>\n",
       "    <tr>\n",
       "      <th>25%</th>\n",
       "      <td>0.000000</td>\n",
       "      <td>4521.927500</td>\n",
       "      <td>1.000000</td>\n",
       "      <td>0.000000</td>\n",
       "      <td>1.000000</td>\n",
       "      <td>822.230000</td>\n",
       "    </tr>\n",
       "    <tr>\n",
       "      <th>50%</th>\n",
       "      <td>1.000000</td>\n",
       "      <td>7813.700000</td>\n",
       "      <td>1.000000</td>\n",
       "      <td>1.000000</td>\n",
       "      <td>2.000000</td>\n",
       "      <td>1148.470000</td>\n",
       "    </tr>\n",
       "    <tr>\n",
       "      <th>75%</th>\n",
       "      <td>1.000000</td>\n",
       "      <td>11194.402500</td>\n",
       "      <td>2.000000</td>\n",
       "      <td>1.000000</td>\n",
       "      <td>2.000000</td>\n",
       "      <td>1604.780000</td>\n",
       "    </tr>\n",
       "    <tr>\n",
       "      <th>max</th>\n",
       "      <td>1.000000</td>\n",
       "      <td>19679.180000</td>\n",
       "      <td>2.000000</td>\n",
       "      <td>1.000000</td>\n",
       "      <td>3.000000</td>\n",
       "      <td>3904.870000</td>\n",
       "    </tr>\n",
       "  </tbody>\n",
       "</table>\n",
       "</div>"
      ],
      "text/plain": [
       "         is_adult      distance   num_stops  has_loyalty  price_tier  \\\n",
       "count  500.000000    500.000000  500.000000   500.000000  500.000000   \n",
       "mean     0.620000   8115.625640    1.214000     0.528000    1.652000   \n",
       "std      0.485873   4500.306602    0.762474     0.499715    0.532412   \n",
       "min      0.000000    353.270000    0.000000     0.000000    1.000000   \n",
       "25%      0.000000   4521.927500    1.000000     0.000000    1.000000   \n",
       "50%      1.000000   7813.700000    1.000000     1.000000    2.000000   \n",
       "75%      1.000000  11194.402500    2.000000     1.000000    2.000000   \n",
       "max      1.000000  19679.180000    2.000000     1.000000    3.000000   \n",
       "\n",
       "             price  \n",
       "count   350.000000  \n",
       "mean   1292.314600  \n",
       "std     662.526387  \n",
       "min     243.220000  \n",
       "25%     822.230000  \n",
       "50%    1148.470000  \n",
       "75%    1604.780000  \n",
       "max    3904.870000  "
      ]
     },
     "execution_count": 44,
     "metadata": {},
     "output_type": "execute_result"
    }
   ],
   "source": [
    "df_missing.describe()"
   ]
  },
  {
   "cell_type": "markdown",
   "id": "f7193f61",
   "metadata": {},
   "source": [
    "Looks fine"
   ]
  },
  {
   "cell_type": "code",
   "execution_count": 45,
   "id": "36864ded",
   "metadata": {},
   "outputs": [
    {
     "data": {
      "text/plain": [
       "ticket_id         False\n",
       "airline_flight    False\n",
       "name              False\n",
       "gender            False\n",
       "dob               False\n",
       "dop               False\n",
       "dod               False\n",
       "is_adult          False\n",
       "from              False\n",
       "to                False\n",
       "distance          False\n",
       "num_stops         False\n",
       "has_loyalty       False\n",
       "price_tier        False\n",
       "price              True\n",
       "dtype: bool"
      ]
     },
     "execution_count": 45,
     "metadata": {},
     "output_type": "execute_result"
    }
   ],
   "source": [
    "df_missing.isna().any() "
   ]
  },
  {
   "cell_type": "code",
   "execution_count": 46,
   "id": "e9d5cf2e",
   "metadata": {},
   "outputs": [
    {
     "data": {
      "text/plain": [
       "ticket_id           0\n",
       "airline_flight      0\n",
       "name                0\n",
       "gender              0\n",
       "dob                 0\n",
       "dop                 0\n",
       "dod                 0\n",
       "is_adult            0\n",
       "from                0\n",
       "to                  0\n",
       "distance            0\n",
       "num_stops           0\n",
       "has_loyalty         0\n",
       "price_tier          0\n",
       "price             150\n",
       "dtype: int64"
      ]
     },
     "execution_count": 46,
     "metadata": {},
     "output_type": "execute_result"
    }
   ],
   "source": [
    "df_missing.isna().sum() "
   ]
  },
  {
   "cell_type": "markdown",
   "id": "5d497de6",
   "metadata": {},
   "source": [
    "Only price has missing value"
   ]
  },
  {
   "cell_type": "code",
   "execution_count": 47,
   "id": "246cc35b",
   "metadata": {},
   "outputs": [
    {
     "data": {
      "text/html": [
       "<div>\n",
       "<style scoped>\n",
       "    .dataframe tbody tr th:only-of-type {\n",
       "        vertical-align: middle;\n",
       "    }\n",
       "\n",
       "    .dataframe tbody tr th {\n",
       "        vertical-align: top;\n",
       "    }\n",
       "\n",
       "    .dataframe thead th {\n",
       "        text-align: right;\n",
       "    }\n",
       "</style>\n",
       "<table border=\"1\" class=\"dataframe\">\n",
       "  <thead>\n",
       "    <tr style=\"text-align: right;\">\n",
       "      <th></th>\n",
       "      <th>ticket_id</th>\n",
       "      <th>airline_flight</th>\n",
       "      <th>name</th>\n",
       "      <th>gender</th>\n",
       "      <th>dob</th>\n",
       "      <th>dop</th>\n",
       "      <th>dod</th>\n",
       "      <th>from</th>\n",
       "      <th>to</th>\n",
       "    </tr>\n",
       "  </thead>\n",
       "  <tbody>\n",
       "    <tr>\n",
       "      <th>count</th>\n",
       "      <td>500</td>\n",
       "      <td>500</td>\n",
       "      <td>500</td>\n",
       "      <td>500</td>\n",
       "      <td>500</td>\n",
       "      <td>500</td>\n",
       "      <td>500</td>\n",
       "      <td>500</td>\n",
       "      <td>500</td>\n",
       "    </tr>\n",
       "    <tr>\n",
       "      <th>unique</th>\n",
       "      <td>500</td>\n",
       "      <td>450</td>\n",
       "      <td>499</td>\n",
       "      <td>2</td>\n",
       "      <td>491</td>\n",
       "      <td>269</td>\n",
       "      <td>334</td>\n",
       "      <td>210</td>\n",
       "      <td>213</td>\n",
       "    </tr>\n",
       "    <tr>\n",
       "      <th>top</th>\n",
       "      <td>IDZZ39201</td>\n",
       "      <td>Omega\\OG-547</td>\n",
       "      <td>Ms. Barbara Bennett</td>\n",
       "      <td>F</td>\n",
       "      <td>2020-01-23</td>\n",
       "      <td>2021-11-09</td>\n",
       "      <td>2021-12-14</td>\n",
       "      <td>Puerto Rico</td>\n",
       "      <td>Mayotte</td>\n",
       "    </tr>\n",
       "    <tr>\n",
       "      <th>freq</th>\n",
       "      <td>1</td>\n",
       "      <td>3</td>\n",
       "      <td>2</td>\n",
       "      <td>282</td>\n",
       "      <td>2</td>\n",
       "      <td>6</td>\n",
       "      <td>7</td>\n",
       "      <td>9</td>\n",
       "      <td>9</td>\n",
       "    </tr>\n",
       "  </tbody>\n",
       "</table>\n",
       "</div>"
      ],
      "text/plain": [
       "        ticket_id airline_flight                 name gender         dob  \\\n",
       "count         500            500                  500    500         500   \n",
       "unique        500            450                  499      2         491   \n",
       "top     IDZZ39201   Omega\\OG-547  Ms. Barbara Bennett      F  2020-01-23   \n",
       "freq            1              3                    2    282           2   \n",
       "\n",
       "               dop         dod         from       to  \n",
       "count          500         500          500      500  \n",
       "unique         269         334          210      213  \n",
       "top     2021-11-09  2021-12-14  Puerto Rico  Mayotte  \n",
       "freq             6           7            9        9  "
      ]
     },
     "execution_count": 47,
     "metadata": {},
     "output_type": "execute_result"
    }
   ],
   "source": [
    "df_missing.describe(include=['O'])"
   ]
  },
  {
   "cell_type": "markdown",
   "id": "ff233f7f",
   "metadata": {},
   "source": [
    "looks fine too\n",
    "\n",
    "It is given that this dataframe only has missing value problem and only price column has missing values\n",
    "Therefore, I will use linear regression to predict price and fill in. the method is simillar to Part1"
   ]
  },
  {
   "cell_type": "code",
   "execution_count": 48,
   "id": "7bb9d04a",
   "metadata": {},
   "outputs": [
    {
     "data": {
      "text/plain": [
       "350"
      ]
     },
     "execution_count": 48,
     "metadata": {},
     "output_type": "execute_result"
    }
   ],
   "source": [
    "# create interaction and original value\n",
    "df_missing['interaction'] = df_missing[\"distance\"] * df_missing[\"price_tier\"]\n",
    "# linear regression is an equation like y = ax1+bx2+ ....+cxn +c, so discount cant be one of the factor\n",
    "df_missing['origin_price'] = ''\n",
    "for i in range(500):\n",
    "    if df_missing[\"has_loyalty\"][i] == 1:\n",
    "        df_missing.at[i,'origin_price'] =df_missing.price[i] /0.9 \n",
    "    else:\n",
    "        df_missing.at[i,'origin_price'] = df_missing.price[i]\n",
    "#create ailine column\n",
    "airline_missing = df_missing['airline_flight'].apply(lambda s: pd.Series({'airline': s.split(\"-\")[0].strip(),\n",
    "                            'number':s.split(\"-\")[1].strip()}))\n",
    "df_missing['airline'] = airline_missing.airline\n",
    "# extract not null values\n",
    "df_missing_notnull = df_missing.dropna()\n",
    "#split by airline\n",
    "Omega= df_missing_notnull[df_missing_notnull['airline'] =='Omega\\OG']\n",
    "Calisto= df_missing_notnull[df_missing_notnull['airline'] == 'Calisto\\CS']\n",
    "Adonis = df_missing_notnull[df_missing_notnull['airline'] == 'Adonis\\AS']\n",
    "len(df_missing_notnull)"
   ]
  },
  {
   "cell_type": "code",
   "execution_count": 49,
   "id": "b870fa4b",
   "metadata": {},
   "outputs": [
    {
     "name": "stdout",
     "output_type": "stream",
     "text": [
      "r-squared for this model =  0.9998880664903279\n"
     ]
    }
   ],
   "source": [
    "#Omega\n",
    "#train data set\n",
    "X_train, X_test, y_train, y_test = train_test_split(Omega[['is_adult','num_stops','interaction']],\n",
    "                                                    Omega.origin_price, random_state = 111)\n",
    "lr = LinearRegression()\n",
    "lr.fit(X_train,y_train)\n",
    "# I got 0.99, a high R-squared \n",
    "print ('r-squared for this model = ',lr.score(X_test,y_test))"
   ]
  },
  {
   "cell_type": "code",
   "execution_count": 50,
   "id": "7e213e96",
   "metadata": {},
   "outputs": [],
   "source": [
    "#Now I can fill in the value for Omega\n",
    "for i in range(500):\n",
    "    if df_missing.airline[i] == \"Omega\\OG\":\n",
    "        factor = [df_missing.is_adult[i],df_missing.num_stops[i],df_missing.interaction[i]]\n",
    "        predict= lr.predict([factor])\n",
    "        #if the discount is applied\n",
    "        if df.has_loyalty[i] == 1:\n",
    "            df_missing.at[i,'price'] = predict *0.9\n",
    "        else:\n",
    "            df_missing.at[i,'price'] = predict"
   ]
  },
  {
   "cell_type": "code",
   "execution_count": 51,
   "id": "5a62be6a",
   "metadata": {},
   "outputs": [
    {
     "name": "stdout",
     "output_type": "stream",
     "text": [
      "r-squared for this model =  0.9999150877269292\n"
     ]
    }
   ],
   "source": [
    "#Calisto\\CS\n",
    "#train data set\n",
    "X_train, X_test, y_train, y_test = train_test_split(Calisto[['is_adult','num_stops','interaction']],\n",
    "                                                    Calisto.origin_price, random_state = 111)\n",
    "lr = LinearRegression()\n",
    "lr.fit(X_train,y_train)\n",
    "# I got 0.99, a high R-squared \n",
    "print ('r-squared for this model = ',lr.score(X_test,y_test))"
   ]
  },
  {
   "cell_type": "code",
   "execution_count": 52,
   "id": "8e3a6eb5",
   "metadata": {},
   "outputs": [],
   "source": [
    "#Now I can fill in the value for Calisto\n",
    "for i in range(500):\n",
    "    if df_missing.airline[i] == \"Calisto\\CS\":\n",
    "        factor = [df_missing.is_adult[i],df_missing.num_stops[i],df_missing.interaction[i]]\n",
    "        predict= lr.predict([factor])\n",
    "        #if the discount is applied\n",
    "        if df.has_loyalty[i] == 1:\n",
    "            df_missing.at[i,'price'] = predict *0.9\n",
    "        else:\n",
    "            df_missing.at[i,'price'] = predict"
   ]
  },
  {
   "cell_type": "code",
   "execution_count": 53,
   "id": "562427fb",
   "metadata": {},
   "outputs": [
    {
     "name": "stdout",
     "output_type": "stream",
     "text": [
      "r-squared for this model =  0.9999743415453802\n"
     ]
    }
   ],
   "source": [
    "#Adonis\\AS\n",
    "#train data set\n",
    "X_train, X_test, y_train, y_test = train_test_split(Adonis[['is_adult','num_stops','interaction']],\n",
    "                                                    Adonis.origin_price, random_state = 111)\n",
    "lr = LinearRegression()\n",
    "lr.fit(X_train,y_train)\n",
    "# I got 0.99, a high R-squared \n",
    "print ('r-squared for this model = ',lr.score(X_test,y_test))"
   ]
  },
  {
   "cell_type": "code",
   "execution_count": 54,
   "id": "15d76bba",
   "metadata": {},
   "outputs": [],
   "source": [
    "#Now I can fill in the value for Adonis\n",
    "for i in range(500):\n",
    "    if df_missing.airline[i] == \"Adonis\\AS\":\n",
    "        factor = [df_missing.is_adult[i],df_missing.num_stops[i],df_missing.interaction[i]]\n",
    "        predict= lr.predict([factor])\n",
    "        #if the discount is applied\n",
    "        if df.has_loyalty[i] == 1:\n",
    "            df_missing.at[i,'price'] = predict *0.9\n",
    "        else:\n",
    "            df_missing.at[i,'price'] = predict"
   ]
  },
  {
   "cell_type": "code",
   "execution_count": 55,
   "id": "d2654ed9",
   "metadata": {},
   "outputs": [
    {
     "data": {
      "text/plain": [
       "ticket_id         False\n",
       "airline_flight    False\n",
       "name              False\n",
       "gender            False\n",
       "dob               False\n",
       "dop               False\n",
       "dod               False\n",
       "is_adult          False\n",
       "from              False\n",
       "to                False\n",
       "distance          False\n",
       "num_stops         False\n",
       "has_loyalty       False\n",
       "price_tier        False\n",
       "price             False\n",
       "dtype: bool"
      ]
     },
     "execution_count": 55,
     "metadata": {},
     "output_type": "execute_result"
    }
   ],
   "source": [
    "# drop columns\n",
    "df_missing.drop('interaction', inplace=True, axis=1)\n",
    "df_missing.drop('origin_price', inplace=True, axis=1)\n",
    "df_missing.drop('airline', inplace=True, axis=1)\n",
    "df_missing.isna().any() "
   ]
  },
  {
   "cell_type": "code",
   "execution_count": 56,
   "id": "8a56fe29",
   "metadata": {},
   "outputs": [],
   "source": [
    "#output\n",
    "df_missing.to_csv('32073119_missing_solution.csv')"
   ]
  },
  {
   "cell_type": "markdown",
   "id": "b6bf4a83",
   "metadata": {},
   "source": [
    "## Reference"
   ]
  },
  {
   "cell_type": "markdown",
   "id": "fe714f28",
   "metadata": {},
   "source": [
    "1. Getting distance between two points based on latitude/longitude. Stack Overflow. Retrieved May 8, 2022, from https://stackoverflow.com/questions/19412462/getting-distance-between-two-points-based-on-latitude-longitude \n",
    "\n",
    "2. Interquartile Range (IQR): What it is and how to find it. Statistics How To. (2021, June 7). Retrieved May 8, 2022, from https://www.statisticshowto.com/probability-and-statistics/interquartile-range/#:~:text=The%20interquartile%20range%20formula%20is,%3D%20Q3%20%E2%80%93%20Q1. "
   ]
  },
  {
   "cell_type": "code",
   "execution_count": null,
   "id": "45c861c2",
   "metadata": {},
   "outputs": [],
   "source": []
  },
  {
   "cell_type": "code",
   "execution_count": null,
   "id": "2d8d642e",
   "metadata": {},
   "outputs": [],
   "source": []
  }
 ],
 "metadata": {
  "kernelspec": {
   "display_name": "Python 3.8.8 ('base')",
   "language": "python",
   "name": "python3"
  },
  "language_info": {
   "codemirror_mode": {
    "name": "ipython",
    "version": 3
   },
   "file_extension": ".py",
   "mimetype": "text/x-python",
   "name": "python",
   "nbconvert_exporter": "python",
   "pygments_lexer": "ipython3",
   "version": "3.8.8"
  },
  "vscode": {
   "interpreter": {
    "hash": "7758e92e9a61d7a3490898707f7eeb937c85e9d1e8d4e877cc6c187218f226d5"
   }
  }
 },
 "nbformat": 4,
 "nbformat_minor": 5
}

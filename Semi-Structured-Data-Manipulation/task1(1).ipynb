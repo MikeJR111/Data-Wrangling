{
 "cells": [
  {
   "cell_type": "markdown",
   "id": "99edcabe",
   "metadata": {},
   "source": [
    "# FIT5196 Assessment 1\n",
    "#### Student Name: Jiawei Ren\n",
    "#### Student ID: 32073119\n",
    "\n"
   ]
  },
  {
   "cell_type": "markdown",
   "id": "ec2fd0cd",
   "metadata": {},
   "source": [
    "## Table of Contents\n",
    "\n",
    "* [1. Load Data from current working directory](#task1)\n",
    "* [2. Categorize and Analyse text](#task2)"
   ]
  },
  {
   "cell_type": "code",
   "execution_count": null,
   "id": "1435ae89",
   "metadata": {},
   "outputs": [],
   "source": [
    "import re # for regular expression\n",
    "import os # for removing local files"
   ]
  },
  {
   "cell_type": "markdown",
   "id": "9028e0d6",
   "metadata": {},
   "source": [
    "## Step 1 Load Data from current working directory : <a class=\"anchor\" id=\"task1\"></a>"
   ]
  },
  {
   "cell_type": "code",
   "execution_count": null,
   "id": "ad39774f",
   "metadata": {},
   "outputs": [],
   "source": [
    "#  to remove blank line between each paragraph \n",
    "import re\n",
    "def rm_blank_line(filename):    \n",
    "    for line in filename:\n",
    "        line =line.strip()\n",
    "        if line:  \n",
    "            yield line \n",
    "            \n",
    "text_messages = [] # to store texts\n",
    "# because I found strange texts, such as &#34；so I made this pattern to find all of them and remove them.  \n",
    "pattern = r\"&#\\d+;\"\n",
    "for i in range(1,41):\n",
    "    text1 = []\n",
    "    #there are 40 files and file name follows such rule 32073119_task1_input +number +.txt\n",
    "    # so I use this pattern and a for loop to open them one by one\n",
    "    file_name =\"32073119_task1_input\"+str(i)+\".txt\"\n",
    "    with open(file_name, 'r', encoding = \"UTF-8\" )as fp:\n",
    "        # remove blank line\n",
    "        for line in rm_blank_line(fp):\n",
    "            #remove strange text\n",
    "            text1.append(re.sub(pattern, r\"\", line))\n",
    "    for line in text1:\n",
    "        #some attributes are in one string, so I split them by using $\n",
    "        string_list = line.split(\"$\")\n",
    "        for strings in string_list:\n",
    "            if strings !=\"\":\n",
    "                # each string has .: between it's attribute and content, so we can use that to split them\n",
    "                string = strings.split(\".:\")\n",
    "                #store the text\n",
    "                text_messages.append(string)\n",
    "    #close file \n",
    "    fp.close()\n",
    "for i in range(7):\n",
    "    print(text_messages[i])"
   ]
  },
  {
   "cell_type": "markdown",
   "id": "e11171af",
   "metadata": {},
   "source": [
    "# check the data :"
   ]
  },
  {
   "cell_type": "code",
   "execution_count": null,
   "id": "c6a59fc2",
   "metadata": {},
   "outputs": [],
   "source": [
    "c1 = 0\n",
    "c2 = 0\n",
    "c3 = 0\n",
    "length = []\n",
    "c = []\n",
    "#See if the data is as expected\n",
    "for i in range(len(text_messages)):\n",
    "    if len(text_messages[i]) ==2:\n",
    "        c1 = c1 +1\n",
    "    if len(text_messages[i]) ==1:\n",
    "        c2 = c2 + 1\n",
    "    if len(text_messages[i]) !=1 and len(text_messages[i]) !=2:\n",
    "        length.append(len(text_messages[i]))\n",
    "        c.append(text_messages[i])\n",
    "        c3 = c3+ 1\n",
    "print(length)\n",
    "print(c1,c2,c3)"
   ]
  },
  {
   "cell_type": "markdown",
   "id": "2b408264",
   "metadata": {},
   "source": [
    "normally, each list should have a length of 2, one is the attribute, another one is the content\n",
    "after checking the data, some lists have a length of 1 or 3 is becaue review may have more than one paragraph,"
   ]
  },
  {
   "cell_type": "code",
   "execution_count": null,
   "id": "b55b674a",
   "metadata": {},
   "outputs": [],
   "source": [
    "fixed_message = []\n",
    "for i in range(len(text_messages)-6):\n",
    "    if len(text_messages[i]) == 3:\n",
    "        #combine the message and pop the last element \n",
    "        text_messages[i][1] = text_messages[i][1] + text_messages[i][2]\n",
    "        text_messages[i].pop()\n",
    "        #if it has more than one paragraph\n",
    "        if len(text_messages[i+1]) == 1:\n",
    "            for a in range(5):\n",
    "                if len(text_messages[i+a]) == 1:\n",
    "                    text_messages[i][1] = text_messages[i][1] + ' ' + text_messages[i+a][0]\n",
    "        fixed_message.append(text_messages[i])\n",
    "    #if it has more than one paragraph\n",
    "    elif len(text_messages[i]) == 2 and len(text_messages[i+1]) == 1 :\n",
    "        # combine all paragraphs\n",
    "        for a in range(5):\n",
    "            if len(text_messages[i+a]) == 1:\n",
    "                text_messages[i][1] = text_messages[i][1] + ' ' + text_messages[i+a][0]\n",
    "        fixed_message.append(text_messages[i])\n",
    "    elif len(text_messages[i]) == 2 and len(text_messages[i+1]) != 1 :\n",
    "        fixed_message.append(text_messages[i])\n",
    "        \n",
    "        \n",
    "# append last 6 list\n",
    "for line in text_messages[-6:]:\n",
    "    fixed_message.append(line)"
   ]
  },
  {
   "cell_type": "markdown",
   "id": "98633b0a",
   "metadata": {},
   "source": [
    "the correct number of list should be 279992 + 16 = 280008; And lets check:"
   ]
  },
  {
   "cell_type": "code",
   "execution_count": null,
   "id": "f55fa89d",
   "metadata": {},
   "outputs": [],
   "source": [
    "c1 = 0\n",
    "c2 = 0\n",
    "c3 = 0\n",
    "#See if the data is as expected\n",
    "for i in range(len(fixed_message)):\n",
    "    if len(fixed_message[i]) ==2:\n",
    "        c1 = c1 +1\n",
    "    if len(fixed_message[i]) ==1:\n",
    "        c2 = c2 + 1\n",
    "    if len(fixed_message[i]) !=1 and len(fixed_message[i]) !=2:\n",
    "        c3 = c3+ 1\n",
    "print(c1,c2,c3)"
   ]
  },
  {
   "cell_type": "markdown",
   "id": "03bd4c58",
   "metadata": {},
   "source": [
    "## Step 2 Categorize and Analyse text: <a class=\"anchor\" id=\"task2\"></a>"
   ]
  },
  {
   "cell_type": "code",
   "execution_count": null,
   "id": "c1659605",
   "metadata": {},
   "outputs": [],
   "source": [
    "attribute = []\n",
    "for i in range(50):\n",
    "    attribute.append(fixed_message[i][0])\n",
    "# lets have a look at the attributes\n",
    "print(attribute)"
   ]
  },
  {
   "cell_type": "markdown",
   "id": "34bcc12c",
   "metadata": {},
   "source": [
    "There 7 attributes, according to my observation, they have the following several textual representations      \n",
    "<br>“reviewer ID\":  'rev_ID',reviewerID', // so it always start with r and end with ID                  \n",
    "<br>“product ID”: 'prod_ID','product.ID', // so it always start with p and end with ID                 \n",
    "<br>“reviewer name”: 'rev_NAME', 'reviewerName','reviewer.NAME', // so it always contain name\n",
    "<br>“number of helpful flags”:'No. helps','Helpful?', // so it always contain help                    \n",
    "<br>“review date”: 'review_date','reviewDate',  // so it always contain date                        \n",
    "<br>“review text\" : 'REVIEW','review_text', // so it either end with text or review in capital letters      \n",
    "<br>“review summary”:'SUMMARY','review_summary', // so it always contain summary                     "
   ]
  },
  {
   "cell_type": "code",
   "execution_count": null,
   "id": "9deaf993",
   "metadata": {},
   "outputs": [],
   "source": [
    "# this function will check my pattern, if the pattern is correct, each of them should have 40001 matches\n",
    "# and rename the attribute\n",
    "def check_pattern(fixed_message):\n",
    "    string = []\n",
    "    #these letters indicates the number of the attribute found in the list\n",
    "    c = 0\n",
    "    a= 0\n",
    "    b = 0\n",
    "    e = 0\n",
    "    f = 0\n",
    "    g = 0\n",
    "    d = 0\n",
    "    for i in range(len(fixed_message)):\n",
    "        # count and rename attributes\n",
    "        if fixed_message[i][0].startswith(\"r\") and fixed_message[i][0].endswith(\"ID\"):\n",
    "            fixed_message[i][0] = \"reviewID\"\n",
    "            a = a+1\n",
    "        elif fixed_message[i][0].startswith(\"p\") and fixed_message[i][0].endswith(\"ID\"):\n",
    "            fixed_message[i][0] = \"productID\"\n",
    "            b = b+1\n",
    "        elif re.search('NAME', fixed_message[i][0], re.IGNORECASE):\n",
    "            fixed_message[i][0] = \"NAME\"\n",
    "            c= c+1\n",
    "        elif re.search('help', fixed_message[i][0], re.IGNORECASE):\n",
    "            fixed_message[i][0] = \"help\"\n",
    "            d = d+1\n",
    "        elif re.search('date', fixed_message[i][0], re.IGNORECASE):\n",
    "            fixed_message[i][0] = \"date\"\n",
    "            e = e+1\n",
    "        elif re.match('REVIEW',fixed_message[i][0] ) or re.match('review_text',fixed_message[i][0] ):\n",
    "            fixed_message[i][0] = \"REVIEW\"\n",
    "            f = f+1\n",
    "        elif re.search('summary', fixed_message[i][0], re.IGNORECASE):\n",
    "            fixed_message[i][0] = \"summary\"\n",
    "            g = g+1\n",
    "        else:\n",
    "            string.append(fixed_message[i-1])\n",
    "            string.append(fixed_message[i])\n",
    "    print(a,b,c,d,e,f,g)\n",
    "    return string \n",
    "string = check_pattern(fixed_message)"
   ]
  },
  {
   "cell_type": "markdown",
   "id": "7152801d",
   "metadata": {},
   "source": [
    "So I checked the pattern, and found 8 missing values,and they are reviews, I am going to combine them."
   ]
  },
  {
   "cell_type": "code",
   "execution_count": null,
   "id": "1d0deab8",
   "metadata": {},
   "outputs": [],
   "source": [
    "string"
   ]
  },
  {
   "cell_type": "code",
   "execution_count": null,
   "id": "97324364",
   "metadata": {},
   "outputs": [],
   "source": [
    "fixed_messages = []\n",
    "for i in range(len(fixed_message)-5):\n",
    "    # when the next list is review text, smaller than 20, is because I want to make sure the first element is not an attribute\n",
    "    if len(fixed_message[i][0])<20 and len(fixed_message[i+1][0])>20:\n",
    "        # we check next 4 list \n",
    "        for a in range(1,5):\n",
    "            #if it is a review text\n",
    "            if len(fixed_message[i+a][0])>20:\n",
    "                #then combine\n",
    "                for x in range(2):\n",
    "                    fixed_message[i][1] = fixed_message[i][1] + ' ' + fixed_message[i+a][x]\n",
    "# remove those 8 reviews\n",
    "for i in range(len(fixed_message)):\n",
    "    if len(fixed_message[i][0]) <20:\n",
    "        fixed_messages.append(fixed_message[i])\n",
    "        \n",
    "# lets check again, everything looks alright                     \n",
    "strings = check_pattern(fixed_messages)\n",
    "strings"
   ]
  },
  {
   "cell_type": "markdown",
   "id": "61366e87",
   "metadata": {},
   "source": [
    "lets see if there is any disordered message or a person makes two reviews:"
   ]
  },
  {
   "cell_type": "code",
   "execution_count": null,
   "id": "0b961da8",
   "metadata": {},
   "outputs": [],
   "source": [
    "# each message group will have 7 attributes:\n",
    "count = 0\n",
    "z= 0\n",
    "#there are 400000 review ID, and one out of every seven \n",
    "# the count will tell me if there are any disroder or someone making two reviews, and looks like no\n",
    "for i in range(40000):\n",
    "    if  fixed_messages[i*7][0]!= \"reviewID\":\n",
    "        count = count +1\n",
    "print(count)"
   ]
  },
  {
   "cell_type": "markdown",
   "id": "9d741208",
   "metadata": {},
   "source": [
    "Everything looks alright, then I will load it into a list of dictionary"
   ]
  },
  {
   "cell_type": "code",
   "execution_count": null,
   "id": "3313d80b",
   "metadata": {},
   "outputs": [],
   "source": [
    "#message will be stored in the dictionary \n",
    "dicts = {\"user name\":\"0\",\"productID\":\"0\",\"review_date\":\"0\",\"review_text\":\"0\",\n",
    "         \"review_helpful\":\"0\",\"review_summary\":\"0\",\"review\":\"0\"}\n",
    "count = 0\n",
    "filename = '32073119.xml'\n",
    "with open(filename,'a') as f:\n",
    "    f.write(\"<users>\\n\" )\n",
    "f.close()\n",
    "for i in range(len(fixed_messages)):\n",
    "    count = count + 1\n",
    "    if fixed_messages[i][0]==\"reviewID\":\n",
    "        dicts[\"user name\"] = fixed_messages[i][1]\n",
    "    elif fixed_messages[i][0] == \"productID\":\n",
    "        dicts[\"productID\"] = fixed_messages[i][1]\n",
    "    elif fixed_messages[i][0] == \"NAME\":\n",
    "         dicts[\"NAME\"] = fixed_messages[i][1]\n",
    "    elif fixed_messages[i][0] == \"help\":\n",
    "        dicts[\"help\"] = fixed_messages[i][1]\n",
    "    elif fixed_messages[i][0] == \"date\":\n",
    "        dicts[\"date\"] = fixed_messages[i][1]\n",
    "    elif fixed_messages[i][0] == \"REVIEW\":\n",
    "        # fix the & error\n",
    "        if \"&\" in fixed_messages[i][1]:\n",
    "            m = fixed_messages[i][1].replace('&', \"&amp;\" )\n",
    "            dicts[\"REVIEW\"] = m\n",
    "        else:\n",
    "            dicts[\"REVIEW\"] = fixed_messages[i][1]\n",
    "    elif fixed_messages[i][0] == \"summary\":\n",
    "        # fix the & error\n",
    "        if \"&\" in fixed_messages[i][1]:\n",
    "            m = fixed_messages[i][1].replace('&', \"&amp;\" )\n",
    "            dicts[\"summary\"] = m\n",
    "        else:\n",
    "            dicts[\"summary\"] = fixed_messages[i][1]\n",
    "    if count == 7:\n",
    "        count = 0\n",
    "        with open(filename,'a') as f:       \n",
    "            f.write(\"    <user name = \\\"{}\\\">\\n\".format(dicts[\"user name\"].strip()))\n",
    "            f.write(\"        <latest_review_date>\" + dicts[\"date\"].strip() + \"</latest_review_date>\\n\")\n",
    "            f.write(\"        <reviews>\\n\")\n",
    "            f.write(\"            <review>\\n\")\n",
    "            f.write(\"                <productID>\" + dicts[\"productID\"].strip() + \"</productID>\\n\")\n",
    "            f.write(\"                <review_date>\" + dicts[\"date\"].strip() + \"</review_date>\\n\")\n",
    "            f.write(\"                <review_helpful>\" + dicts[\"help\"].strip() + \"</review_helpful>\\n\")\n",
    "            f.write(\"                <review_text>\" + dicts[\"REVIEW\"].strip() )\n",
    "            f.write(\"                </review_text>\\n\")\n",
    "            f.write(\"                <review_summary>\" + dicts[\"summary\"].strip() + \"</review_summary>\\n\")\n",
    "            f.write(\"            </review>\\n\")\n",
    "            f.write(\"        </reviews>\\n\")\n",
    "            f.write(\"    </user>\\n\" )\n",
    "with open(filename,'a') as f:    \n",
    "    f.write(\"</users>\\n\") \n",
    "f.close()"
   ]
  },
  {
   "cell_type": "markdown",
   "id": "111d4267",
   "metadata": {},
   "source": [
    "error on line 205 at column 123: xmlParseEntityRef: no name\n",
    "<br> I got this error message, because there are & in text, and it need to be replaced with \"& a m p ;\" \n",
    "<br> Then error on line 1468 at column 47: xmlParseEntityRef: no name\n",
    "<br> because there are & in summary\n",
    "<br> Then error on line 148931 at column 1: Extra content at the end of the document\n",
    "<br> Google says it is because I don't have root, but I have root\n",
    "<br> I don't know about this error, I tried outputting 7000 data at a time to see what's going on, but everything looks fine. The error only occurs when the data is too large. But the complete output passes XMLchecker"
   ]
  }
 ],
 "metadata": {
  "kernelspec": {
   "display_name": "Python 3.8.8 ('base')",
   "language": "python",
   "name": "python3"
  },
  "language_info": {
   "codemirror_mode": {
    "name": "ipython",
    "version": 3
   },
   "file_extension": ".py",
   "mimetype": "text/x-python",
   "name": "python",
   "nbconvert_exporter": "python",
   "pygments_lexer": "ipython3",
   "version": "3.8.8"
  },
  "vscode": {
   "interpreter": {
    "hash": "7758e92e9a61d7a3490898707f7eeb937c85e9d1e8d4e877cc6c187218f226d5"
   }
  }
 },
 "nbformat": 4,
 "nbformat_minor": 5
}
